{
 "cells": [
  {
   "cell_type": "markdown",
   "id": "12a3c801",
   "metadata": {},
   "source": [
    "# [Superdense Coding Code used from IBM's Qiskit Tutorials](https://qiskit.org/textbook/ch-algorithms/superdense-coding.html)\n",
    "## Code adapted for Cirq"
   ]
  },
  {
   "cell_type": "code",
   "execution_count": 61,
   "id": "b8a858b8",
   "metadata": {},
   "outputs": [],
   "source": [
    "import unittest\n",
    "\n",
    "import cirq\n",
    "import random\n",
    "import numpy as np\n",
    "\n",
    "import hypothesis.strategies as st\n",
    "from hypothesis import given, settings"
   ]
  },
  {
   "cell_type": "code",
   "execution_count": 62,
   "id": "cb0c3b8e",
   "metadata": {},
   "outputs": [],
   "source": [
    "def create_bell_pair(qubits):\n",
    "    qc = cirq.Circuit() \n",
    "    qc.append(cirq.H(qubits[1]))\n",
    "    qc.append(cirq.CNOT(qubits[1],qubits[0]))\n",
    "    return qc"
   ]
  },
  {
   "cell_type": "code",
   "execution_count": 63,
   "id": "0bd358f5",
   "metadata": {},
   "outputs": [],
   "source": [
    "def encode_message(qc, qubit, msg):\n",
    "    if len(msg) != 2 or not set([0,1]).issubset({0,1}):\n",
    "        raise ValueError(f\"message '{msg}' is invalid\")\n",
    "    if msg[1] == \"1\":\n",
    "        qc.append(cirq.X(qubit))\n",
    "    if msg[0] == \"1\":\n",
    "        qc.append(cirq.Z(qubit))\n",
    "    return qc"
   ]
  },
  {
   "cell_type": "code",
   "execution_count": 64,
   "id": "eca52b52",
   "metadata": {},
   "outputs": [],
   "source": [
    "def decode_message(qc, qubits):\n",
    "    qc.append(cirq.CNOT(qubits[1],qubits[0]))\n",
    "    qc.append(cirq.H(qubits[1]))\n",
    "    return qc"
   ]
  },
  {
   "cell_type": "code",
   "execution_count": 73,
   "id": "87580434",
   "metadata": {},
   "outputs": [
    {
     "name": "stdout",
     "output_type": "stream",
     "text": [
      "0: ───────X───X───────M('m')───\n",
      "          │   │       │\n",
      "1: ───H───@───@───H───M────────\n",
      "00\n"
     ]
    }
   ],
   "source": [
    "qubits = cirq.LineQubit.range(2)\n",
    "qc = create_bell_pair(qubits)\n",
    "\n",
    "message = '11'    \n",
    "    \n",
    "qc = encode_message(qc, qubits[1], message)\n",
    "\n",
    "qc = decode_message(qc, qubits)\n",
    "\n",
    "qc.append(cirq.measure(*qubits, key='m'))\n",
    "\n",
    "print(qc)\n",
    "\n",
    "simulator = cirq.Simulator()\n",
    "results = simulator.run(qc , repetitions =1)\n",
    "readings = np.array2string(results.measurements['m'][0], separator='')[1:-1][::-1]\n",
    "print(readings)"
   ]
  },
  {
   "cell_type": "code",
   "execution_count": null,
   "id": "24abb544",
   "metadata": {},
   "outputs": [],
   "source": []
  }
 ],
 "metadata": {
  "kernelspec": {
   "display_name": "Python [conda env:cirq_env]",
   "language": "python",
   "name": "conda-env-cirq_env-py"
  },
  "language_info": {
   "codemirror_mode": {
    "name": "ipython",
    "version": 3
   },
   "file_extension": ".py",
   "mimetype": "text/x-python",
   "name": "python",
   "nbconvert_exporter": "python",
   "pygments_lexer": "ipython3",
   "version": "3.8.12"
  }
 },
 "nbformat": 4,
 "nbformat_minor": 5
}
