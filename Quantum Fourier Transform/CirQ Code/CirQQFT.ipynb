{
 "cells": [
  {
   "cell_type": "markdown",
   "id": "20c3ed70",
   "metadata": {},
   "source": [
    "# Cirq version"
   ]
  },
  {
   "cell_type": "code",
   "execution_count": 3,
   "id": "21e083bf",
   "metadata": {},
   "outputs": [],
   "source": [
    "import cirq\n",
    "import random\n",
    "import matplotlib.pyplot as plt\n",
    "import numpy as np"
   ]
  },
  {
   "cell_type": "code",
   "execution_count": 11,
   "id": "cb5f1536",
   "metadata": {},
   "outputs": [
    {
     "name": "stdout",
     "output_type": "stream",
     "text": [
      "loop n# 4\n",
      "3\n",
      "0\n",
      "3\n",
      "1\n",
      "3\n",
      "2\n",
      "loop n# 3\n",
      "2\n",
      "0\n",
      "2\n",
      "1\n",
      "loop n# 2\n",
      "1\n",
      "0\n",
      "loop n# 1\n",
      "loop n# 0\n",
      "0: ───────@──────────────────────────────@────────────────────@───────H───M('this')───\n",
      "          │                              │                    │           │\n",
      "1: ───────┼─────────@────────────────────┼────────@───────H───@^0.5───────M───────────\n",
      "          │         │                    │        │                       │\n",
      "2: ───────┼─────────┼────────@───────H───@^0.25───@^0.5───────────────────M───────────\n",
      "          │         │        │                                            │\n",
      "3: ───H───@^(1/8)───@^0.25───@^0.5────────────────────────────────────────M───────────\n",
      "this=1000001101, 0010101000, 0101010101, 1111010010\n"
     ]
    }
   ],
   "source": [
    "def qft_rotations_cirq(circuit, qubits, n):\n",
    "    #this implementation is taken from https://qiskit.org/textbook/ch-algorithms/quantum-fourier-transform.html\n",
    "    #if qubit amount is 0, then do nothing and return\n",
    "    print(\"loop n# %s\"%n)\n",
    "    if n == 0:\n",
    "        circuit.append(cirq.measure(*qubits, key='this'))\n",
    "        print(circuit)\n",
    "        return circuit\n",
    "    n -= 1\n",
    "    circuit.append(cirq.H(qubits[n]))\n",
    "    for qubit in range(n):\n",
    "        circuit.append((cirq.CZ**(1/2**(n-qubit)))(qubits[qubit],qubits[n]))\n",
    "        print(n)\n",
    "        print(qubit)\n",
    "    return qft_rotations_cirq(circuit, qubits, n)     \n",
    "\n",
    "def set_measure_x(circuit, n):\n",
    "    for num in range(n):\n",
    "        circuit.h(num)\n",
    "\n",
    "def set_measure_y(circuit, n):\n",
    "    for num in range(n):\n",
    "        circuit.sdg(num)\n",
    "        circuit.h(num)\n",
    "\n",
    "qubits = cirq.LineQubit.range(4)\n",
    "circuit = cirq.Circuit()\n",
    "circuit = qft_rotations_cirq(circuit, qubits, 4)\n",
    "simulator = cirq.Simulator()\n",
    "results = simulator.run(circuit , repetitions =10)\n",
    "#results = simulator.run(circuit)\n",
    "print(results)"
   ]
  },
  {
   "cell_type": "code",
   "execution_count": 37,
   "id": "95a86af4",
   "metadata": {},
   "outputs": [
    {
     "name": "stdout",
     "output_type": "stream",
     "text": [
      "0: ───X───@─────────────────────────────────@───────────────────────────@───────H──────S^-1───H───\n",
      "          │                                 │                           │\n",
      "1: ───────┼─────────@───────────────────────┼────────@───────────H──────@^0.5───S^-1───H──────────\n",
      "          │         │                       │        │\n",
      "2: ───────┼─────────┼────────@───────H──────@^0.25───@^0.5───────S^-1───H─────────────────────────\n",
      "          │         │        │\n",
      "3: ───H───@^(1/8)───@^0.25───@^0.5───S^-1───H────────M('this')────────────────────────────────────\n",
      "Counter({0: 691324, 1: 308676})\n"
     ]
    }
   ],
   "source": [
    "def qft_rotations_cirq(circuit, qubits, n):\n",
    "    #this implementation is taken from https://qiskit.org/textbook/ch-algorithms/quantum-fourier-transform.html\n",
    "    #if qubit amount is 0, then do nothing and return\n",
    "    #print(\"loop n# %s\"%n)\n",
    "    if n == 0:\n",
    "        #print(circuit)\n",
    "        return circuit\n",
    "    n -= 1\n",
    "    circuit.append(cirq.H(qubits[n]))\n",
    "    for qubit in range(n):\n",
    "        circuit.append((cirq.CZ**(1/2**(n-qubit)))(qubits[qubit],qubits[n]))\n",
    "        #print(n)\n",
    "        #print(qubit)\n",
    "    return qft_rotations_cirq(circuit, qubits, n)     \n",
    "\n",
    "def set_measure_x(circuit, qubits, n):\n",
    "    for num in range(n):\n",
    "        circuit.append(cirq.H(qubits[num]))\n",
    "\n",
    "def set_measure_y(circuit, qubits, n):\n",
    "    for num in range(n):\n",
    "        circuit.append((cirq.Z**(-1/2))(qubits[num]))\n",
    "        circuit.append(cirq.H(qubits[num]))\n",
    "\n",
    "qubits = cirq.LineQubit.range(4)\n",
    "circuit = cirq.Circuit()\n",
    "circuit.append(cirq.X(qubits[0]))\n",
    "qft_rotations_cirq(circuit, qubits, 4)\n",
    "##set it to measure Y axis\n",
    "set_measure_x(circuit, qubits, 4)\n",
    "##measure the first qubit ---------V\n",
    "circuit.append(cirq.measure(qubits[0], key='this'))\n",
    "simulator = cirq.Simulator()\n",
    "results = simulator.run(circuit , repetitions =1000000)\n",
    "#results = simulator.run(circuit)\n",
    "print(circuit)\n",
    "print(results.histogram(key=\"this\"))"
   ]
  },
  {
   "cell_type": "code",
   "execution_count": null,
   "id": "e60ec8e1",
   "metadata": {},
   "outputs": [],
   "source": []
  }
 ],
 "metadata": {
  "kernelspec": {
   "display_name": "Python 3",
   "language": "python",
   "name": "python3"
  },
  "language_info": {
   "codemirror_mode": {
    "name": "ipython",
    "version": 3
   },
   "file_extension": ".py",
   "mimetype": "text/x-python",
   "name": "python",
   "nbconvert_exporter": "python",
   "pygments_lexer": "ipython3",
   "version": "3.8.8"
  }
 },
 "nbformat": 4,
 "nbformat_minor": 5
}
