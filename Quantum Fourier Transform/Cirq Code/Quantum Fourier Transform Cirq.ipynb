{
 "cells": [
  {
   "cell_type": "markdown",
   "id": "20c3ed70",
   "metadata": {},
   "source": [
    "# [Quantum Fourier Transformation Code used from IBM's Qiskit Tutorials](https://qiskit.org/textbook/ch-algorithms/quantum-fourier-transform.html)\n",
    "## Code adapted for Cirq"
   ]
  },
  {
   "cell_type": "code",
   "execution_count": 2,
   "id": "21e083bf",
   "metadata": {},
   "outputs": [],
   "source": [
    "import cirq\n",
    "import random\n",
    "import matplotlib.pyplot as plt\n",
    "import numpy as np"
   ]
  },
  {
   "cell_type": "markdown",
   "id": "2228b1bc",
   "metadata": {},
   "source": [
    "# Measure all qubits consistent across all versions"
   ]
  },
  {
   "cell_type": "code",
   "execution_count": 8,
   "id": "3d5e5014",
   "metadata": {},
   "outputs": [
    {
     "name": "stdout",
     "output_type": "stream",
     "text": [
      "0: ───X───@──────────────────────────────@────────────────────@───────H───H───M('this')───\n",
      "          │                              │                    │               │\n",
      "1: ───────┼─────────@────────────────────┼────────@───────H───@^0.5───H───────M───────────\n",
      "          │         │                    │        │                           │\n",
      "2: ───────┼─────────┼────────@───────H───@^0.25───@^0.5───H───────────────────M───────────\n",
      "          │         │        │                                                │\n",
      "3: ───H───@^(1/8)───@^0.25───@^0.5───H────────────────────────────────────────M───────────\n",
      "Counter({12: 410981, 8: 410532, 10: 70455, 14: 70084, 9: 16362, 13: 16163, 15: 2715, 11: 2708})\n"
     ]
    }
   ],
   "source": [
    "def qft_rotations_cirq(circuit, qubits, n):\n",
    "    if n == 0:\n",
    "        #print(circuit)\n",
    "        set_measure_x(circuit, qubits, 4)\n",
    "        circuit.append(cirq.measure(*qubits, key='this'))\n",
    "        return circuit\n",
    "    n -= 1\n",
    "    circuit.append(cirq.H(qubits[n]))\n",
    "    for qubit in range(n):\n",
    "        circuit.append((cirq.CZ**(1/2**(n-qubit)))(qubits[qubit],qubits[n]))\n",
    "    return qft_rotations_cirq(circuit, qubits, n) \n",
    "\n",
    "qubits = cirq.LineQubit.range(4)\n",
    "circuit = cirq.Circuit()\n",
    "circuit.append(cirq.X(qubits[0]))\n",
    "qft_rotations_cirq(circuit, qubits, 4)\n",
    "##set it to measure Y axis\n",
    "#set_measure_x(circuit, qubits, 4)\n",
    "#circuit.append(cirq.measure(*qubits, key='this'))\n",
    "simulator = cirq.Simulator()\n",
    "results = simulator.run(circuit , repetitions =1000000)\n",
    "#results = simulator.run(circuit)\n",
    "print(circuit)\n",
    "print(results.histogram(key=\"this\"))"
   ]
  },
  {
   "cell_type": "markdown",
   "id": "98f0f847",
   "metadata": {},
   "source": [
    "# Measure 1 specific qubit"
   ]
  },
  {
   "cell_type": "code",
   "execution_count": 4,
   "id": "95a86af4",
   "metadata": {},
   "outputs": [
    {
     "name": "stdout",
     "output_type": "stream",
     "text": [
      "0: ───X───@──────────────────────────────@────────────────────@───────H───H───M('this')───\n",
      "          │                              │                    │\n",
      "1: ───────┼─────────@────────────────────┼────────@───────H───@^0.5───H───────────────────\n",
      "          │         │                    │        │\n",
      "2: ───────┼─────────┼────────@───────H───@^0.25───@^0.5───H───────────────────────────────\n",
      "          │         │        │\n",
      "3: ───H───@^(1/8)───@^0.25───@^0.5───H────────────────────────────────────────────────────\n",
      "Counter({1: 1000000})\n"
     ]
    }
   ],
   "source": [
    "def qft_rotations_cirq(circuit, qubits, n):\n",
    "    #this implementation is taken from https://qiskit.org/textbook/ch-algorithms/quantum-fourier-transform.html\n",
    "    #if qubit amount is 0, then do nothing and return\n",
    "    #print(\"loop n# %s\"%n)\n",
    "    if n == 0:\n",
    "        #print(circuit)\n",
    "        return circuit\n",
    "    n -= 1\n",
    "    circuit.append(cirq.H(qubits[n]))\n",
    "    for qubit in range(n):\n",
    "        circuit.append((cirq.CZ**(1/2**(n-qubit)))(qubits[qubit],qubits[n]))\n",
    "        #print(n)\n",
    "        #print(qubit)\n",
    "    return qft_rotations_cirq(circuit, qubits, n)     \n",
    "\n",
    "def set_measure_x(circuit, qubits, n):\n",
    "    for num in range(n):\n",
    "        circuit.append(cirq.H(qubits[num]))\n",
    "\n",
    "def set_measure_y(circuit, qubits, n):\n",
    "    for num in range(n):\n",
    "        circuit.append((cirq.Z**(-1/2))(qubits[num]))\n",
    "        circuit.append(cirq.H(qubits[num]))\n",
    "\n",
    "qubits = cirq.LineQubit.range(4)\n",
    "circuit = cirq.Circuit()\n",
    "circuit.append(cirq.X(qubits[0]))\n",
    "qft_rotations_cirq(circuit, qubits, 4)\n",
    "##set it to measure Y axis\n",
    "set_measure_x(circuit, qubits, 4)\n",
    "##measure the first qubit ---------V\n",
    "circuit.append(cirq.measure(qubits[0], key='this'))\n",
    "simulator = cirq.Simulator()\n",
    "results = simulator.run(circuit , repetitions =1000000)\n",
    "#results = simulator.run(circuit)\n",
    "print(circuit)\n",
    "print(results.histogram(key=\"this\"))"
   ]
  }
 ],
 "metadata": {
  "kernelspec": {
   "display_name": "Python 3 (ipykernel)",
   "language": "python",
   "name": "python3"
  },
  "language_info": {
   "codemirror_mode": {
    "name": "ipython",
    "version": 3
   },
   "file_extension": ".py",
   "mimetype": "text/x-python",
   "name": "python",
   "nbconvert_exporter": "python",
   "pygments_lexer": "ipython3",
   "version": "3.8.12"
  }
 },
 "nbformat": 4,
 "nbformat_minor": 5
}
