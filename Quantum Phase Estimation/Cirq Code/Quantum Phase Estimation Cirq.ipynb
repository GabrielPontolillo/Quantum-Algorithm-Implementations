{
 "cells": [
  {
   "cell_type": "markdown",
   "id": "39c0c2b8",
   "metadata": {},
   "source": [
    "# [Quantum Phase Estimation Code used from IBM's Qiskit Tutorials](https://qiskit.org/textbook/ch-algorithms/quantum-phase-estimation.html)\n",
    "## Code adapted for Cirq"
   ]
  },
  {
   "cell_type": "code",
   "execution_count": 1,
   "id": "8938fc00",
   "metadata": {},
   "outputs": [],
   "source": [
    "import cirq\n",
    "import random\n",
    "import matplotlib.pyplot as plt\n",
    "import numpy as np\n",
    "import math"
   ]
  },
  {
   "cell_type": "code",
   "execution_count": 2,
   "id": "ef1c3a47",
   "metadata": {},
   "outputs": [],
   "source": [
    "def qft_dagger_cirq(qc, qubits, n):\n",
    "    for qubit in range(n//2):\n",
    "        qc.append(cirq.SWAP(qubits[qubit], qubits[n-qubit-1]))\n",
    "    for j in range(n):\n",
    "        for m in range(j):\n",
    "            qc.append((cirq.CZ**(-1/2**(j-m)))(qubits[m],qubits[j]))\n",
    "        qc.append(cirq.H(qubits[j]))"
   ]
  },
  {
   "cell_type": "code",
   "execution_count": 16,
   "id": "d2d09e5c",
   "metadata": {},
   "outputs": [
    {
     "name": "stdout",
     "output_type": "stream",
     "text": [
      "[0.71875   0.7265625 0.734375  ... 0.71875   0.71875   0.71875  ]\n",
      "{0.71875: 5010, 0.7265625: 3207, 0.734375: 372, 0.765625: 32, 0.7421875: 153, 0.703125: 164, 0.7734375: 28, 0.671875: 19, 0.7109375: 454, 0.8828125: 5, 0.6640625: 19, 0.6953125: 78, 0.7890625: 11, 0.3515625: 1, 0.640625: 8, 0.6875: 38, 0.75: 88, 0.65625: 10, 0.59375: 3, 0.7578125: 45, 0.328125: 3, 0.5234375: 3, 0.6171875: 3, 0.6796875: 40, 0.84375: 6, 0.6328125: 9, 0.359375: 1, 0.4296875: 2, 0.515625: 2, 0.5546875: 6, 0.796875: 13, 0.8671875: 4, 0.6015625: 5, 0.09375: 2, 0.8046875: 10, 0.1796875: 2, 0.5625: 4, 0.78125: 12, 0.828125: 7, 0.8203125: 12, 0.859375: 3, 0.875: 3, 0.4609375: 1, 0.578125: 4, 0.984375: 2, 0.96875: 3, 0.3359375: 1, 0.890625: 5, 0.625: 8, 0.8359375: 5, 0.171875: 3, 0.8515625: 3, 0.6484375: 12, 0.453125: 2, 0.90625: 1, 0.3828125: 2, 0.53125: 5, 0.1953125: 1, 0.03125: 1, 0.953125: 2, 0.34375: 1, 0.8125: 3, 0.0078125: 1, 0.9609375: 1, 0.0234375: 1, 0.609375: 2, 0.1015625: 1, 0.921875: 1, 0.9140625: 3, 0.546875: 7, 0.5703125: 1, 0.25: 2, 0.5: 1, 0.0703125: 1, 0.9765625: 2, 0.9453125: 2, 0.2890625: 1, 0.046875: 1, 0.9296875: 1, 0.8984375: 1, 0.203125: 1, 0.484375: 2, 0.5859375: 2, 0.2578125: 1, 0.2109375: 1, 0.21875: 1}\n",
      "0.71875 5010\n"
     ]
    }
   ],
   "source": [
    "def generalised_qpe_cirq(amt_estimation_qubits, angle, shots = 10000):\n",
    "    # Create and set up circuit\n",
    "    qubits = cirq.LineQubit.range(amt_estimation_qubits+1)\n",
    "    circuit = cirq.Circuit()\n",
    "    \n",
    "    # Apply H-Gates to counting qubits:\n",
    "    for qubit in range(amt_estimation_qubits):\n",
    "        circuit.append(cirq.H(qubits[qubit]))\n",
    "\n",
    "    #print(circuit)    \n",
    "        \n",
    "    # Prepare our eigenstate |psi>:\n",
    "    circuit.append(cirq.X(qubits[amt_estimation_qubits]))\n",
    "\n",
    "    #print(circuit) \n",
    "    \n",
    "    repetitions = 1\n",
    "    for counting_qubit in range(amt_estimation_qubits):\n",
    "        for i in range(repetitions):\n",
    "            circuit.append((cirq.CZ**((angle/math.pi)))(qubits[counting_qubit],qubits[amt_estimation_qubits]));\n",
    "        repetitions *= 2\n",
    "        \n",
    "    #print(circuit) \n",
    "\n",
    "    # Do the inverse QFT:\n",
    "    qft_dagger_cirq(circuit, qubits, amt_estimation_qubits)\n",
    "    \n",
    "    # Measure of course!\n",
    "    circuit.append(cirq.measure(*qubits[:-1], key='m'))\n",
    "        \n",
    "    simulator = cirq.Simulator()\n",
    "    results = simulator.run(circuit , repetitions = shots)\n",
    "    theta_estimates = np.sum(2 ** np.arange(amt_estimation_qubits) * results.measurements['m'], axis=1) / 2**amt_estimation_qubits\n",
    "    \n",
    "    print(theta_estimates)\n",
    "    counts = dict()\n",
    "    for i in theta_estimates:\n",
    "        counts[i] = counts.get(i, 0) + 1\n",
    "    print(counts)\n",
    "    \n",
    "    unique,pos = np.unique(theta_estimates,return_inverse=True)\n",
    "    counts = np.bincount(pos)\n",
    "    maxpos = counts.argmax()\n",
    "    print(unique[maxpos],counts[maxpos])\n",
    "    \n",
    "#generalised_qpe_cirq(7,(13*math.pi/9))\n",
    "generalised_qpe_cirq(7,(13*math.pi/9))"
   ]
  },
  {
   "cell_type": "code",
   "execution_count": null,
   "id": "6cdb4957",
   "metadata": {},
   "outputs": [],
   "source": []
  }
 ],
 "metadata": {
  "kernelspec": {
   "display_name": "Python [conda env:cirq]",
   "language": "python",
   "name": "conda-env-cirq-py"
  },
  "language_info": {
   "codemirror_mode": {
    "name": "ipython",
    "version": 3
   },
   "file_extension": ".py",
   "mimetype": "text/x-python",
   "name": "python",
   "nbconvert_exporter": "python",
   "pygments_lexer": "ipython3",
   "version": "3.9.7"
  }
 },
 "nbformat": 4,
 "nbformat_minor": 5
}
