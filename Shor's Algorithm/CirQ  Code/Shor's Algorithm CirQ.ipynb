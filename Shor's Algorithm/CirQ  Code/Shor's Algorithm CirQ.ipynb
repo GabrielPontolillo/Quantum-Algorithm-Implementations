{
 "cells": [
  {
   "cell_type": "markdown",
   "id": "7662f10f",
   "metadata": {},
   "source": [
    "# [Shor's algorithm code from IBM's Qiskit used](https://qiskit.org/textbook/ch-algorithms/shor.html)\n",
    "## Their docs are excellent, please take advantage of them!\n",
    "## Code adapted for CirQ"
   ]
  },
  {
   "cell_type": "code",
   "execution_count": 1,
   "id": "04b16377",
   "metadata": {},
   "outputs": [],
   "source": [
    "import unittest\n",
    "\n",
    "import cirq\n",
    "from cirq.ops import H, X, I\n",
    "import random\n",
    "import matplotlib.pyplot as plt\n",
    "from math import gcd\n",
    "import numpy as np\n",
    "from numpy.random import randint\n",
    "\n",
    "import hypothesis.strategies as st\n",
    "from hypothesis import given, settings\n",
    "\n",
    "from fractions import Fraction\n",
    "from math import gcd # greatest common divisor"
   ]
  },
  {
   "cell_type": "code",
   "execution_count": 2,
   "id": "3fd159f5",
   "metadata": {},
   "outputs": [],
   "source": [
    "# Specify variables\n",
    "n_count = 8  # number of counting qubits\n",
    "a = 7\n",
    "N = 15"
   ]
  },
  {
   "cell_type": "code",
   "execution_count": 3,
   "id": "c5e379fb",
   "metadata": {},
   "outputs": [],
   "source": [
    "class aMod15Gate(cirq.Gate):\n",
    "    def __init__(self, a, power):\n",
    "        super(aMod15Gate, self)\n",
    "        self.a = a\n",
    "        self.power = power\n",
    "\n",
    "    def _num_qubits_(self):\n",
    "        return 4\n",
    "\n",
    "    def _decompose_(self, qubits):\n",
    "        q0, q1, q2, q3 = qubits\n",
    "        if self.a not in [2,7,8,11,13]:\n",
    "            raise ValueError(\"'a' must be 2,7,8,11 or 13\")\n",
    "        for iteration in range(self.power):\n",
    "            if self.a in [2,13]:\n",
    "                yield cirq.SWAP(q0,q1)\n",
    "                yield cirq.SWAP(q1,q2)\n",
    "                yield cirq.SWAP(q2,q3)\n",
    "            if self.a in [7,8]:\n",
    "                yield cirq.SWAP(q2,q3)\n",
    "                yield cirq.SWAP(q1,q2)\n",
    "                yield cirq.SWAP(q0,q1)\n",
    "            if self.a == 11:\n",
    "                yield cirq.SWAP(q1,q3)\n",
    "                yield cirq.SWAP(q0,q2)\n",
    "            if self.a in [7,11,13]:\n",
    "                yield cirq.X(q0)\n",
    "                yield cirq.X(q1)\n",
    "                yield cirq.X(q2)\n",
    "                yield cirq.X(q3)\n",
    "\n",
    "    def _circuit_diagram_info_(self, args):\n",
    "        return \"a mod 15\" "
   ]
  },
  {
   "cell_type": "code",
   "execution_count": 4,
   "id": "faf075a3",
   "metadata": {},
   "outputs": [],
   "source": [
    "def qft_dagger_cirq(qc, qubits, n):\n",
    "    for qubit in range(n//2):\n",
    "        qc.append(cirq.SWAP(qubits[qubit], qubits[n-qubit-1]))\n",
    "    for j in range(n):\n",
    "        for m in range(j):\n",
    "            qc.append((cirq.CZ**(-1/2**(j-m)))(qubits[m],qubits[j]))\n",
    "        qc.append(cirq.H(qubits[j]))"
   ]
  },
  {
   "cell_type": "code",
   "execution_count": 5,
   "id": "00dfe28d",
   "metadata": {},
   "outputs": [],
   "source": [
    "def qpe_amod15(a):\n",
    "    n_count = 8\n",
    "    qubits = cirq.LineQubit.range(4+n_count)\n",
    "    qc = cirq.Circuit()     \n",
    "    for q in range(n_count):\n",
    "        #print(q)\n",
    "        qc.append(cirq.H(qubits[q]))     # Initialize counting qubits in state |+>\n",
    "    qc.append(cirq.X(qubits[3+n_count])) # And auxiliary register in state |1>\n",
    "    for q in range(n_count): # Do controlled-U operations\n",
    "        qc.append(aMod15Gate(a, 2**q).on(qubits[8],qubits[9],qubits[10],qubits[11]).controlled_by(qubits[q]))\n",
    "    qft_dagger_cirq(qc, qubits[:n_count], n_count) # Do inverse-QF\n",
    "    qc.append(cirq.measure(*qubits[:8], key='m'))\n",
    "    # Simulate Results\n",
    "    simulator = cirq.Simulator()\n",
    "    results = simulator.run(qc , repetitions =1)\n",
    "    print(type(results.measurements['m'][0]))\n",
    "    print(np.array2string(results.measurements['m'][0], separator='')[1:-1][::-1])\n",
    "    readings = np.array2string(results.measurements['m'][0], separator='')[1:-1][::-1]\n",
    "    phase = int(readings,2)/(2**n_count)\n",
    "    return phase"
   ]
  },
  {
   "cell_type": "code",
   "execution_count": 6,
   "id": "29601017",
   "metadata": {},
   "outputs": [
    {
     "name": "stdout",
     "output_type": "stream",
     "text": [
      "<class 'numpy.ndarray'>\n",
      "11000000\n"
     ]
    },
    {
     "data": {
      "text/plain": [
       "Fraction(3, 4)"
      ]
     },
     "execution_count": 6,
     "metadata": {},
     "output_type": "execute_result"
    }
   ],
   "source": [
    "phase = qpe_amod15(a) # Phase = s/r\n",
    "Fraction(phase).limit_denominator(15)"
   ]
  },
  {
   "cell_type": "code",
   "execution_count": 7,
   "id": "878a03f1",
   "metadata": {},
   "outputs": [
    {
     "name": "stdout",
     "output_type": "stream",
     "text": [
      "4\n"
     ]
    }
   ],
   "source": [
    "frac = Fraction(phase).limit_denominator(15)\n",
    "s, r = frac.numerator, frac.denominator\n",
    "print(r)"
   ]
  },
  {
   "cell_type": "code",
   "execution_count": 8,
   "id": "305e02cc",
   "metadata": {},
   "outputs": [
    {
     "name": "stdout",
     "output_type": "stream",
     "text": [
      "[3, 5]\n"
     ]
    }
   ],
   "source": [
    "guesses = [gcd(a**(r//2)-1, N), gcd(a**(r//2)+1, N)]\n",
    "print(guesses)"
   ]
  },
  {
   "cell_type": "code",
   "execution_count": 9,
   "id": "7ffedbcd",
   "metadata": {},
   "outputs": [
    {
     "name": "stdout",
     "output_type": "stream",
     "text": [
      "\n",
      "Attempt 1:\n",
      "<class 'numpy.ndarray'>\n",
      "00000000\n",
      "Result: r = 1\n",
      "\n",
      "Attempt 2:\n",
      "<class 'numpy.ndarray'>\n",
      "10000000\n",
      "Result: r = 2\n",
      "Guessed Factors: 3 and 1\n",
      "*** Non-trivial factor found: 3 ***\n"
     ]
    }
   ],
   "source": [
    "a = 7\n",
    "factor_found = False\n",
    "attempt = 0\n",
    "while not factor_found:\n",
    "    attempt += 1\n",
    "    print(\"\\nAttempt %i:\" % attempt)\n",
    "    phase = qpe_amod15(a) # Phase = s/r\n",
    "    frac = Fraction(phase).limit_denominator(N) # Denominator should (hopefully!) tell us r\n",
    "    r = frac.denominator\n",
    "    print(\"Result: r = %i\" % r)\n",
    "    if phase != 0:\n",
    "        # Guesses for factors are gcd(x^{r/2} ±1 , 15)\n",
    "        guesses = [gcd(a**(r//2)-1, N), gcd(a**(r//2)+1, N)]\n",
    "        print(\"Guessed Factors: %i and %i\" % (guesses[0], guesses[1]))\n",
    "        for guess in guesses:\n",
    "            if guess not in [1,N] and (N % guess) == 0: # Check to see if guess is a factor\n",
    "                print(\"*** Non-trivial factor found: %i ***\" % guess)\n",
    "                factor_found = True"
   ]
  },
  {
   "cell_type": "code",
   "execution_count": null,
   "id": "79b52873",
   "metadata": {},
   "outputs": [],
   "source": []
  }
 ],
 "metadata": {
  "kernelspec": {
   "display_name": "Python [conda env:cirq_env]",
   "language": "python",
   "name": "conda-env-cirq_env-py"
  },
  "language_info": {
   "codemirror_mode": {
    "name": "ipython",
    "version": 3
   },
   "file_extension": ".py",
   "mimetype": "text/x-python",
   "name": "python",
   "nbconvert_exporter": "python",
   "pygments_lexer": "ipython3",
   "version": "3.8.12"
  }
 },
 "nbformat": 4,
 "nbformat_minor": 5
}
