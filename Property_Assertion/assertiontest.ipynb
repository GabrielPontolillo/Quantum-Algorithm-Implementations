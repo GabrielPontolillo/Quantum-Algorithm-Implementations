{
 "cells": [
  {
   "cell_type": "markdown",
   "id": "6d4b32b3",
   "metadata": {},
   "source": [
    "# [Shor's Algorithm Code used from IBM's Qiskit Tutorials](https://qiskit.org/textbook/ch-algorithms/shor.html)\n"
   ]
  },
  {
   "cell_type": "code",
   "execution_count": 1,
   "id": "27fd7e92",
   "metadata": {},
   "outputs": [],
   "source": [
    "\n",
    "import warnings\n",
    "warnings.filterwarnings('ignore')\n",
    "\n",
    "import unittest\n",
    "import pandas as pd  \n",
    "import numpy as np\n",
    "\n",
    "from qiskit import Aer\n",
    "from qiskit import QuantumCircuit\n",
    "from qiskit.visualization import plot_histogram, plot_bloch_multivector\n",
    "from QuantumAssertions import assertPhase, assertEqual\n",
    "from BenchmarkQA import returnPhase\n",
    "import math\n",
    "\n",
    "import qiskit.quantum_info \n",
    "\n",
    "import numpy as np\n",
    "\n",
    "backend = Aer.get_backend('aer_simulator')"
   ]
  },
  {
   "cell_type": "code",
   "execution_count": 2,
   "id": "5d439208",
   "metadata": {},
   "outputs": [],
   "source": [
    "# deg = 20\n",
    "\n",
    "# backend = Aer.get_backend('aer_simulator')\n",
    "# qc = QuantumCircuit(1,1)\n",
    "\n",
    "# qc.save_statevector()\n",
    "# statevector = backend.run(qc).result().get_statevector()\n",
    "# plot_bloch_multivector(statevector)"
   ]
  },
  {
   "cell_type": "code",
   "execution_count": 3,
   "id": "89139c6a",
   "metadata": {},
   "outputs": [
    {
     "name": "stdout",
     "output_type": "stream",
     "text": [
      "full df \n",
      "        +      i      -     -i\n",
      "0  45238  39672   4762  10328\n",
      "1  32702  48725  17298   1275\n",
      "x amounts [4762, 17298]\n",
      "y amounts [10328, 1275]\n",
      "36\n",
      "50000\n",
      "72\n",
      "50000\n",
      "expected x [ 4775 17275]\n",
      "expected y [10305  1224]\n",
      "[4762, 45238]\n",
      "[4775, 45225]\n",
      "0.8431922479999158\n",
      "[10328, 39672]\n",
      "[10305, 39695]\n",
      "0.799275299267263\n",
      "[17298, 32702]\n",
      "[17275, 32725]\n",
      "0.8287510118784822\n",
      "[1275, 48725]\n",
      "[1224, 48776]\n",
      "0.13996668318078753\n"
     ]
    }
   ],
   "source": [
    "qc = QuantumCircuit(2)\n",
    "qc.h(0)\n",
    "qc.h(1)\n",
    "qc.p(10*2*math.pi/100, 0)\n",
    "qc.p(20*2*math.pi/100, 1)\n",
    "assertPhase(backend, qc, [0,1], [36,72], 100000, 0.01)"
   ]
  },
  {
   "cell_type": "code",
   "execution_count": 4,
   "id": "de13f4f6",
   "metadata": {},
   "outputs": [
    {
     "name": "stdout",
     "output_type": "stream",
     "text": [
      "0.01\n",
      "       0      1       +      i  -     -i\n",
      "0  49855  50145  100000  49905  0  50095\n",
      "1  49880  50120  100000  49964  0  50036\n",
      "50145\n",
      "50120\n",
      "0\n",
      "0\n",
      "50095\n",
      "50036\n",
      "0.9109789812352741 0.1118037914467291\n",
      "nan nan\n",
      "0.7918906904119531 0.26385624774691646\n"
     ]
    }
   ],
   "source": [
    "qc = QuantumCircuit(2)\n",
    "qc.h(0)\n",
    "qc.h(1)\n",
    "#qc.p(0.5*2*math.pi/100, 1)\n",
    "assertEqual(backend, qc, 0, 1, 300000, 0.01)"
   ]
  },
  {
   "cell_type": "code",
   "execution_count": 5,
   "id": "224d5753",
   "metadata": {},
   "outputs": [],
   "source": [
    "# ## benchmark 100 shots at 1000 runs \n",
    "# shots = 100\n",
    "# runs = 5000\n",
    "# df = pd.DataFrame(columns=['results'])\n",
    "# for i in range(runs):\n",
    "#     qc = QuantumCircuit(1,1)\n",
    "#     qc.h(0)\n",
    "#     qc.p(20*2*math.pi/100, 0)\n",
    "#     df = df.append({'results': returnPhase(backend, qc, [0], [0], shots, 180)}, ignore_index=True)\n",
    "#     if (i % 10 == 9):\n",
    "#         print(f\"progress: {i+1}/{runs}\")\n",
    "# df.hist(bins=12)\n",
    "# print(df)\n"
   ]
  },
  {
   "cell_type": "code",
   "execution_count": 6,
   "id": "827ea170",
   "metadata": {},
   "outputs": [],
   "source": [
    "# ## benchmark 1000 shots at 1000 runs \n",
    "# shots = 1000\n",
    "# runs = 5000\n",
    "# df = pd.DataFrame(columns=['results'])\n",
    "# for i in range(runs):\n",
    "#     qc = QuantumCircuit(1,1)\n",
    "#     qc.h(0)\n",
    "#     qc.p(20*2*math.pi/100, 0)\n",
    "#     df = df.append({'results': returnPhase(backend, qc, [0], [0], shots, 180)}, ignore_index=True)\n",
    "#     if (i % 10 == 9):\n",
    "#         print(f\"progress: {i+1}/{runs}\")\n",
    "# df.hist(bins=12)\n",
    "# print(df)"
   ]
  },
  {
   "cell_type": "code",
   "execution_count": 7,
   "id": "131ce390",
   "metadata": {},
   "outputs": [],
   "source": [
    "# shots = 10000\n",
    "# runs = 5000\n",
    "# df = pd.DataFrame(columns=['results'])\n",
    "# for i in range(runs):\n",
    "#     qc = QuantumCircuit(1,1)\n",
    "#     qc.h(0)\n",
    "#     qc.p(20*2*math.pi/100, 0)\n",
    "#     df = df.append({'results': returnPhase(backend, qc, [0], [0], shots, 180)}, ignore_index=True)\n",
    "#     if (i % 10 == 9):\n",
    "#         print(f\"progress: {i+1}/{runs}\")\n",
    "# df.hist(bins=12)\n",
    "# print(df)"
   ]
  },
  {
   "cell_type": "code",
   "execution_count": 8,
   "id": "45651e36",
   "metadata": {},
   "outputs": [],
   "source": [
    "# shots = 100000\n",
    "# runs = 5000\n",
    "# df = pd.DataFrame(columns=['results'])\n",
    "# for i in range(runs):\n",
    "#     qc = QuantumCircuit(1,1)\n",
    "#     qc.h(0)\n",
    "#     qc.p(20*2*math.pi/100, 0)\n",
    "#     df = df.append({'results': returnPhase(backend, qc, [0], [0], shots, 180)}, ignore_index=True)\n",
    "#     if (i % 10 == 9):\n",
    "#         print(f\"progress: {i+1}/{runs}\")\n",
    "# df.hist(bins=12)\n",
    "# print(df)"
   ]
  }
 ],
 "metadata": {
  "interpreter": {
   "hash": "2310f4aba82165d2167ac4df299751225c36c37eb514c12a8770a6d4aea55883"
  },
  "kernelspec": {
   "display_name": "Python 3",
   "language": "python",
   "name": "python3"
  },
  "language_info": {
   "codemirror_mode": {
    "name": "ipython",
    "version": 3
   },
   "file_extension": ".py",
   "mimetype": "text/x-python",
   "name": "python",
   "nbconvert_exporter": "python",
   "pygments_lexer": "ipython3",
   "version": "3.9.7"
  }
 },
 "nbformat": 4,
 "nbformat_minor": 5
}
