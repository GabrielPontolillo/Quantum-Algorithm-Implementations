{
 "cells": [
  {
   "cell_type": "markdown",
   "id": "6fdeb055",
   "metadata": {},
   "source": [
    "# [Quantum Key Distribution Code used from IBM's Qiskit Tutorials](https://qiskit.org/textbook/ch-algorithms/quantum-key-distribution.html)"
   ]
  },
  {
   "cell_type": "markdown",
   "id": "611d5c10",
   "metadata": {},
   "source": [
    "# Without interception"
   ]
  },
  {
   "cell_type": "code",
   "execution_count": 13,
   "id": "2d75670e",
   "metadata": {},
   "outputs": [],
   "source": [
    "import unittest\n",
    "import sys\n",
    "import math\n",
    "\n",
    "from qiskit import QuantumCircuit, Aer, transpile, assemble, execute\n",
    "from qiskit.visualization import plot_histogram, plot_bloch_multivector\n",
    "from qiskit.circuit.library import Barrier, HGate, XGate\n",
    "from numpy.random import randint\n",
    "import numpy as np\n",
    "\n",
    "sys.path.insert(0, 'C:\\\\Users\\\\Gabriel\\Desktop\\\\Quantum-Algorithm-Implementations\\\\Property Assertion')\n",
    "from QuantumAssertions import assertPhase\n",
    "\n",
    "import hypothesis.strategies as st\n",
    "from hypothesis import given, settings"
   ]
  },
  {
   "cell_type": "code",
   "execution_count": 3,
   "id": "6d97e900",
   "metadata": {},
   "outputs": [],
   "source": [
    "def generate_binary(len):\n",
    "    return randint(2, size=len)"
   ]
  },
  {
   "cell_type": "code",
   "execution_count": 4,
   "id": "4590f1fa",
   "metadata": {},
   "outputs": [],
   "source": [
    "def encode_message(bits, bases, messageLen):\n",
    "    message = []\n",
    "    for i in range(messageLen):\n",
    "        qc = QuantumCircuit(1,1)\n",
    "        if bases[i] == 0: # Prepare qubit in Z-basis\n",
    "            if bits[i] == 0:\n",
    "                pass \n",
    "            else:\n",
    "                qc.x(0)\n",
    "        else: # Prepare qubit in X-basis\n",
    "            if bits[i] == 0:\n",
    "                qc.h(0)\n",
    "            else:\n",
    "                qc.x(0)\n",
    "                qc.h(0)\n",
    "        qc.barrier()\n",
    "        message.append(qc)\n",
    "    return message"
   ]
  },
  {
   "cell_type": "code",
   "execution_count": 5,
   "id": "c8132b16",
   "metadata": {},
   "outputs": [],
   "source": [
    "def measure_message(message, bases, messageLen):\n",
    "    measurements = []\n",
    "    for q in range(messageLen):\n",
    "        if bases[q] == 0: # measuring in Z-basis\n",
    "            message[q].measure(0,0)\n",
    "        if bases[q] == 1: # measuring in X-basis\n",
    "            message[q].h(0)\n",
    "            message[q].measure(0,0)\n",
    "        aer_sim = Aer.get_backend('aer_simulator')\n",
    "        qobj = assemble(message[q], shots=1, memory=True)\n",
    "        result = aer_sim.run(qobj).result()\n",
    "        measured_bit = int(result.get_memory()[0])\n",
    "        measurements.append(measured_bit)\n",
    "    return measurements"
   ]
  },
  {
   "cell_type": "code",
   "execution_count": 6,
   "id": "7bb82a25",
   "metadata": {},
   "outputs": [],
   "source": [
    "def remove_garbage(a_bases, b_bases, bits, messageLen):\n",
    "    good_bits = []\n",
    "    for q in range(messageLen):\n",
    "        if a_bases[q] == b_bases[q]:\n",
    "            # If both used the same basis, add\n",
    "            # this to the list of 'good' bits\n",
    "            good_bits.append(bits[q])\n",
    "    return good_bits"
   ]
  },
  {
   "cell_type": "code",
   "execution_count": 7,
   "id": "a7417b2e",
   "metadata": {},
   "outputs": [],
   "source": [
    "def sample_bits(bits, selection):\n",
    "    sample = []\n",
    "    for i in selection:\n",
    "        # use np.mod to make sure the\n",
    "        # bit we sample is always in \n",
    "        # the list range\n",
    "        i = np.mod(i, len(bits))\n",
    "        # pop(i) removes the element of the\n",
    "        # list at index 'i'\n",
    "        sample.append(bits.pop(i))\n",
    "    return sample"
   ]
  },
  {
   "cell_type": "code",
   "execution_count": 8,
   "id": "273967c2",
   "metadata": {},
   "outputs": [
    {
     "name": "stdout",
     "output_type": "stream",
     "text": [
      "  bob_sample = [1, 0, 1, 1, 1, 1, 0, 0, 0, 0, 1, 0, 0, 0, 1]\n",
      "alice_sample = [1, 0, 1, 1, 1, 1, 0, 0, 0, 0, 1, 0, 0, 0, 1]\n"
     ]
    },
    {
     "name": "stderr",
     "output_type": "stream",
     "text": [
      "C:\\Users\\Gabriel\\anaconda3\\envs\\qiskit_env\\lib\\site-packages\\qiskit\\utils\\deprecation.py:62: DeprecationWarning: Using a qobj for run() is deprecated as of qiskit-aer 0.9.0 and will be removed no sooner than 3 months from that release date. Transpiled circuits should now be passed directly using `backend.run(circuits, **run_options).\n",
      "  return func(*args, **kwargs)\n"
     ]
    },
    {
     "data": {
      "text/plain": [
       "True"
      ]
     },
     "execution_count": 8,
     "metadata": {},
     "output_type": "execute_result"
    }
   ],
   "source": [
    "np.random.seed(seed=0)\n",
    "messageLen = 100\n",
    "\n",
    "## Step 1\n",
    "# Alice generates bits\n",
    "alice_bits = generate_binary(messageLen)\n",
    "\n",
    "## Step 2\n",
    "# Create an array to tell us which qubits\n",
    "# are encoded in which bases\n",
    "alice_bases = generate_binary(messageLen)\n",
    "message = encode_message(alice_bits, alice_bases, messageLen)\n",
    "\n",
    "## Step 3\n",
    "# Decide which basis to measure in:\n",
    "bob_bases = generate_binary(messageLen)\n",
    "bob_results = measure_message(message, bob_bases, messageLen)\n",
    "\n",
    "## Step 4\n",
    "alice_key = remove_garbage(alice_bases, bob_bases, alice_bits, messageLen)\n",
    "bob_key = remove_garbage(alice_bases, bob_bases, bob_results, messageLen)\n",
    "\n",
    "## Step 5\n",
    "sample_size = 15\n",
    "bit_selection = generate_binary(sample_size)\n",
    "\n",
    "bob_sample = sample_bits(bob_key, bit_selection)\n",
    "print(\"  bob_sample = \" + str(bob_sample))\n",
    "alice_sample = sample_bits(alice_key, bit_selection)\n",
    "print(\"alice_sample = \"+ str(alice_sample))\n",
    "\n",
    "bob_sample == alice_sample"
   ]
  },
  {
   "cell_type": "markdown",
   "id": "a719ffbc",
   "metadata": {},
   "source": [
    "# With interception"
   ]
  },
  {
   "cell_type": "code",
   "execution_count": 9,
   "id": "09b39f98",
   "metadata": {},
   "outputs": [
    {
     "name": "stdout",
     "output_type": "stream",
     "text": [
      "Eve's interference was detected.\n"
     ]
    }
   ],
   "source": [
    "n = 100\n",
    "\n",
    "# Step 1\n",
    "alice_bits = generate_binary(messageLen)\n",
    "alice_bases = generate_binary(messageLen)\n",
    "\n",
    "# Step 2\n",
    "message = encode_message(alice_bits, alice_bases, messageLen)\n",
    "\n",
    "# Interception!\n",
    "eve_bases = generate_binary(messageLen)\n",
    "intercepted_message = measure_message(message, eve_bases, messageLen)\n",
    "\n",
    "# Step 3\n",
    "bob_bases = generate_binary(messageLen)\n",
    "bob_results = measure_message(message, bob_bases, messageLen)\n",
    "\n",
    "# Step 4\n",
    "bob_key = remove_garbage(alice_bases, bob_bases, bob_results, messageLen)\n",
    "alice_key = remove_garbage(alice_bases, bob_bases, alice_bits, messageLen)\n",
    "\n",
    "# Step 5\n",
    "sample_size = 1 # Change this to something lower and see if \n",
    "                 # Eve can intercept the message without Alice\n",
    "                 # and Bob finding out\n",
    "        \n",
    "bit_selection = generate_binary(sample_size)\n",
    "bob_sample = sample_bits(bob_key, bit_selection)\n",
    "alice_sample = sample_bits(alice_key, bit_selection)\n",
    "\n",
    "if bob_sample != alice_sample:\n",
    "    print(\"Eve's interference was detected.\")\n",
    "else:\n",
    "    print(\"Eve went undetected!\")"
   ]
  },
  {
   "cell_type": "code",
   "execution_count": 10,
   "id": "530f3dab",
   "metadata": {},
   "outputs": [],
   "source": [
    "###########################################################################\n",
    "## Define composite strategies to generate lists of ints in equal length ##\n",
    "###########################################################################\n",
    "@st.composite\n",
    "def single_list(draw):\n",
    "    arrayLengths = draw(st.integers(min_value=1, max_value=100))\n",
    "    fixed_length_list = st.lists(st.integers(min_value=0, max_value=1), min_size=arrayLengths, max_size=arrayLengths)\n",
    "    return (draw(fixed_length_list))\n",
    "\n",
    "@st.composite\n",
    "def pair_of_lists(draw):\n",
    "    arrayLengths = draw(st.integers(min_value=1, max_value=100))\n",
    "    fixed_length_list = st.lists(st.integers(min_value=0, max_value=1), min_size=arrayLengths, max_size=arrayLengths)\n",
    "    return (draw(fixed_length_list), draw(fixed_length_list))\n",
    "\n",
    "@st.composite\n",
    "def trio_of_lists(draw):\n",
    "    arrayLengths = draw(st.integers(min_value=1, max_value=100))\n",
    "    fixed_length_list = st.lists(st.integers(min_value=0, max_value=1), min_size=arrayLengths, max_size=arrayLengths)\n",
    "    return (draw(fixed_length_list), draw(fixed_length_list), draw(fixed_length_list))\n",
    "\n",
    "@st.composite\n",
    "def long_trio_of_lists(draw):\n",
    "    arrayLengths = draw(st.integers(min_value=100, max_value=110))\n",
    "    fixed_length_list = st.lists(st.integers(min_value=0, max_value=1), min_size=arrayLengths, max_size=arrayLengths)\n",
    "    return (draw(fixed_length_list), draw(fixed_length_list), draw(fixed_length_list))\n",
    "\n",
    "##########################\n",
    "## test generate binary ##\n",
    "##########################\n",
    "@given(testLength = st.integers(min_value=0, max_value=10000))\n",
    "def test_created_message_is_binary(testLength):\n",
    "    binArr = generate_binary(testLength)\n",
    "    for i in binArr:\n",
    "        assert (i == 1 or i == 0) \n",
    "\n",
    "@given(testLength = st.integers(min_value=1, max_value=10000))\n",
    "def test_created_message_equal_length_to_int_passed_in(testLength):\n",
    "    binArr = generate_binary(testLength)\n",
    "    assert(len(binArr) == testLength) \n",
    "\n",
    "############################\n",
    "## encoding message tests ##\n",
    "############################\n",
    "@given(pair_of_lists())\n",
    "@settings(deadline=None)\n",
    "def test_encode_message_equal_length_to_base(lists):\n",
    "    alice_bits, alice_bases = lists\n",
    "    circuitArr = encode_message(alice_bits, alice_bases, len(alice_bits))\n",
    "    assert(len(circuitArr) ==  len(alice_bits))\n",
    "\n",
    "############################\n",
    "## decoding message tests ##\n",
    "############################\n",
    "@given(lists = trio_of_lists())\n",
    "@settings(deadline=None)\n",
    "def test_decode_message_length_equals_base_length(lists):\n",
    "    alice_bits, alice_bases, bob_base = lists\n",
    "    encoded_message = encode_message(alice_bits, alice_bases, len(bob_base))\n",
    "    msmtArr = measure_message(encoded_message, bob_base, len(bob_base))\n",
    "    assert len(msmtArr) == len(bob_base)\n",
    "\n",
    "@given(lists = trio_of_lists())\n",
    "@settings(deadline=None)\n",
    "def test_decode_message_is_binary(lists):\n",
    "    alice_bits, alice_bases, bob_base = lists\n",
    "    encoded_message = encode_message(alice_bits, alice_bases, len(bob_base))\n",
    "    msmtArr = measure_message(encoded_message, bob_base, len(bob_base))\n",
    "    for i in msmtArr:\n",
    "        assert (i == 1 or i == 0) \n",
    "        \n",
    "@given(lists = pair_of_lists())\n",
    "@settings(deadline=None)\n",
    "def test_decode_with_same_base_returns_original_bits(lists):\n",
    "    alice_bits, alice_bases = lists\n",
    "    encoded_message = encode_message(alice_bits, alice_bases, len(alice_bits))\n",
    "    decodeWithSameBases = measure_message(encoded_message, alice_bases, len(alice_bases))\n",
    "    assert(np.array_equal(np.array(alice_bits), np.array(decodeWithSameBases)))        \n",
    "        \n",
    "@given(lists = pair_of_lists())\n",
    "@settings(deadline=None)\n",
    "def test_decode_with_same_bases_return_same_array(lists):\n",
    "    alice_bits, alice_bases = lists\n",
    "    encoded_message = encode_message(alice_bits, alice_bases, len(alice_bits))\n",
    "    encoded_message2 = encode_message(alice_bits, alice_bases, len(alice_bits))\n",
    "    decodeWithSameBases = measure_message(encoded_message, alice_bases, len(alice_bases))\n",
    "    decodeWithSameBases2 = measure_message(encoded_message2, alice_bases, len(alice_bases))\n",
    "    assert(np.array_equal(np.array(decodeWithSameBases), np.array(decodeWithSameBases2)))\n",
    "    \n",
    "    \n",
    "@given(lists = long_trio_of_lists())\n",
    "@settings(deadline=None)\n",
    "def test_decoding_runs_likely_different(lists):\n",
    "    alice_bits, alice_bases, bob_base = lists\n",
    "    encoded_message = encode_message(alice_bits, alice_bases, len(bob_base))\n",
    "    msmtArr = measure_message(encoded_message, alice_bases, len(alice_bases))\n",
    "    msmtArrRun2 = measure_message(encoded_message, bob_bases, len(bob_base))\n",
    "    assert(not np.array_equal(np.array(msmtArr), np.array(msmtArrRun2)))\n",
    "\n",
    "##############################\n",
    "## remove garbage/key tests ##\n",
    "##############################\n",
    "@given(lists = trio_of_lists())\n",
    "@settings(deadline=None)\n",
    "def test_key_smaller_or_equal_len_to_original_bits(lists):\n",
    "    alice_bits, alice_bases, bob_base = lists\n",
    "    assert len(remove_garbage(alice_bits, alice_bases, bob_base, len(bob_base))) <= len(bob_base)\n",
    "\n",
    "@given(lists = trio_of_lists())\n",
    "@settings(deadline=None)\n",
    "def test_check_keys_equal(lists):\n",
    "    alice_bits, alice_bases, bob_bases = lists\n",
    "    message = encode_message(alice_bits, alice_bases, len(bob_bases))\n",
    "    bob_results = measure_message(message, bob_bases, len(bob_bases))\n",
    "    alice_key = remove_garbage(alice_bases, bob_bases, alice_bits, len(bob_bases))\n",
    "    bob_key = remove_garbage(alice_bases, bob_bases, bob_results, len(bob_bases)) \n",
    "    assert(np.array_equal(np.array(alice_key), np.array(bob_key)))\n",
    "\n",
    "@given(lists = trio_of_lists())\n",
    "@settings(deadline=None)\n",
    "def test_key_is_binary(lists):\n",
    "    alice_bits, alice_bases, bob_bases = lists\n",
    "    alice_key = remove_garbage(alice_bases, bob_bases, alice_bits, len(bob_bases))\n",
    "    for i in alice_key:\n",
    "        assert (i == 1 or i == 0) "
   ]
  },
  {
   "cell_type": "code",
   "execution_count": 11,
   "id": "2a7c9ebd",
   "metadata": {},
   "outputs": [],
   "source": [
    "if __name__ == \"__main__\":\n",
    "    test_created_message_is_binary()\n",
    "    test_created_message_equal_length_to_int_passed_in()\n",
    "    test_encode_message_equal_length_to_base()\n",
    "    test_decode_message_length_equals_base_length()\n",
    "    test_decode_message_is_binary()\n",
    "    test_decode_with_same_base_returns_original_bits()\n",
    "    test_decode_with_same_bases_return_same_array()\n",
    "    #test_decoding_runs_likely_different()\n",
    "    test_key_smaller_or_equal_len_to_original_bits()\n",
    "    test_check_keys_equal()\n",
    "    test_key_is_binary()"
   ]
  },
  {
   "cell_type": "code",
   "execution_count": 15,
   "id": "5c31e963",
   "metadata": {},
   "outputs": [
    {
     "name": "stdout",
     "output_type": "stream",
     "text": [
      "observed: 70.73453543460548\n",
      "predicted: 72\n",
      "diff: -1.2654645653944954\n"
     ]
    }
   ],
   "source": [
    "backend = Aer.get_backend('aer_simulator')\n",
    "\n",
    "qc = QuantumCircuit(3)\n",
    "\n",
    "qc.h(0)\n",
    "qc.p(20*2*math.pi/100, 0)\n",
    "qc.h(1)\n",
    "qc.p(40*2*math.pi/100, 1)\n",
    "qc.h(2)\n",
    "qc.p(60*2*math.pi/100, 2)\n",
    "\n",
    "assertPhase(backend, qc, [0], [72], 1000, 10)"
   ]
  },
  {
   "cell_type": "code",
   "execution_count": null,
   "id": "709a3056",
   "metadata": {},
   "outputs": [],
   "source": []
  }
 ],
 "metadata": {
  "interpreter": {
   "hash": "2310f4aba82165d2167ac4df299751225c36c37eb514c12a8770a6d4aea55883"
  },
  "kernelspec": {
   "display_name": "Python [conda env:qiskit_env]",
   "language": "python",
   "name": "conda-env-qiskit_env-py"
  },
  "language_info": {
   "codemirror_mode": {
    "name": "ipython",
    "version": 3
   },
   "file_extension": ".py",
   "mimetype": "text/x-python",
   "name": "python",
   "nbconvert_exporter": "python",
   "pygments_lexer": "ipython3",
   "version": "3.9.7"
  }
 },
 "nbformat": 4,
 "nbformat_minor": 5
}
