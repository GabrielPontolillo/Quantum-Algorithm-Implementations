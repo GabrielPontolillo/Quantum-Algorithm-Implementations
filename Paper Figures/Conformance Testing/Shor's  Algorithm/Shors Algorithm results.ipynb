{
 "cells": [
  {
   "cell_type": "code",
   "execution_count": 9,
   "id": "ebdac72e",
   "metadata": {},
   "outputs": [],
   "source": [
    "from scipy.stats import kruskal, f_oneway\n",
    "import pandas as pd\n",
    "import numpy as np"
   ]
  },
  {
   "cell_type": "markdown",
   "id": "04335007",
   "metadata": {},
   "source": [
    "# qpe_amod15(2) data"
   ]
  },
  {
   "cell_type": "code",
   "execution_count": 10,
   "id": "136d0bcd",
   "metadata": {},
   "outputs": [
    {
     "data": {
      "text/plain": [
       "KruskalResult(statistic=0.1345704366973189, pvalue=0.9349285045409949)"
      ]
     },
     "execution_count": 10,
     "metadata": {},
     "output_type": "execute_result"
    }
   ],
   "source": [
    "#if p value less than alpha reject\n",
    "qiskit_data = np.concatenate((np.full(245, 0.75), np.full(264, 0.5), np.full(243, 0.25), np.full(248, 0)))\n",
    "\n",
    "cirq_data = np.concatenate((np.full(259, 0.75), np.full(234, 0.5), np.full(249, 0.25), np.full(258, 0)))\n",
    "\n",
    "qs_data = np.concatenate((np.full(260, 0.75), np.full(234, 0.5), np.full(264, 0.25), np.full(242, 0)))\n",
    "\n",
    "kruskal(qiskit_data, cirq_data, qs_data)\n"
   ]
  },
  {
   "cell_type": "markdown",
   "id": "6c968d12",
   "metadata": {},
   "source": [
    "### P-Value of 0.93.... > 0.05 significance level, we cannot refute the null hypothesis"
   ]
  },
  {
   "cell_type": "markdown",
   "id": "9798a712",
   "metadata": {},
   "source": [
    "# qpe_amod15(7) data"
   ]
  },
  {
   "cell_type": "code",
   "execution_count": 11,
   "id": "3296044e",
   "metadata": {},
   "outputs": [
    {
     "data": {
      "text/plain": [
       "KruskalResult(statistic=0.9124247134026184, pvalue=0.6336792567728815)"
      ]
     },
     "execution_count": 11,
     "metadata": {},
     "output_type": "execute_result"
    }
   ],
   "source": [
    "#if p value less than alpha reject\n",
    "qiskit_data = np.concatenate((np.full(254, 0.75), np.full(254, 0.5), np.full(230, 0.25), np.full(262, 0)))\n",
    "\n",
    "cirq_data = np.concatenate((np.full(251, 0.75), np.full(258, 0.5), np.full(269, 0.25), np.full(222, 0)))\n",
    "\n",
    "qs_data = np.concatenate((np.full(254, 0.75), np.full(232, 0.5), np.full(268, 0.25), np.full(246, 0)))\n",
    "\n",
    "kruskal(qiskit_data, cirq_data, qs_data)\n"
   ]
  },
  {
   "cell_type": "markdown",
   "id": "b9b2ffe6",
   "metadata": {},
   "source": [
    "### P-Value of 0.63.... > 0.05 significance level, we cannot refute the null hypothesis"
   ]
  },
  {
   "cell_type": "markdown",
   "id": "b94f43b9",
   "metadata": {},
   "source": [
    "# qpe_amod15(11) data"
   ]
  },
  {
   "cell_type": "code",
   "execution_count": 12,
   "id": "0d84b080",
   "metadata": {},
   "outputs": [
    {
     "data": {
      "text/plain": [
       "KruskalResult(statistic=0.13071606475633815, pvalue=0.936732022937838)"
      ]
     },
     "execution_count": 12,
     "metadata": {},
     "output_type": "execute_result"
    }
   ],
   "source": [
    "#if p value less than alpha reject\n",
    "qiskit_data = np.concatenate((np.full(486, 0.5), np.full(514, 0)))\n",
    "\n",
    "cirq_data = np.concatenate((np.full(483, 0.5), np.full(517, 0)))\n",
    "\n",
    "qs_data = np.concatenate((np.full(491, 0.5), np.full(509, 0)))\n",
    "\n",
    "kruskal(qiskit_data, cirq_data, qs_data)"
   ]
  },
  {
   "cell_type": "markdown",
   "id": "66c98670",
   "metadata": {},
   "source": [
    "### P-Value of 0.93.... > 0.05 significance level, we cannot refute the null hypothesis"
   ]
  },
  {
   "cell_type": "markdown",
   "id": "4f0bf670",
   "metadata": {},
   "source": [
    "# qpe_amod15(13) data"
   ]
  },
  {
   "cell_type": "code",
   "execution_count": 13,
   "id": "de5f365d",
   "metadata": {},
   "outputs": [
    {
     "data": {
      "text/plain": [
       "KruskalResult(statistic=4.443977243218738, pvalue=0.10839334101554512)"
      ]
     },
     "execution_count": 13,
     "metadata": {},
     "output_type": "execute_result"
    }
   ],
   "source": [
    "#if p value less than alpha reject\n",
    "qiskit_data = np.concatenate((np.full(246, 0.75), np.full(226, 0.5), np.full(237, 0.25), np.full(291, 0)))\n",
    "\n",
    "cirq_data = np.concatenate((np.full(247, 0.75), np.full(272, 0.5), np.full(230, 0.25), np.full(251, 0)))\n",
    "\n",
    "qs_data = np.concatenate((np.full(262, 0.75), np.full(243, 0.5), np.full(251, 0.25), np.full(244, 0)))\n",
    "\n",
    "kruskal(qiskit_data, cirq_data, qs_data)"
   ]
  },
  {
   "cell_type": "markdown",
   "id": "cfd5717b",
   "metadata": {},
   "source": [
    "### P-Value of 0.10.... > 0.05 significance level, we cannot refute the null hypothesis"
   ]
  },
  {
   "cell_type": "markdown",
   "id": "7a2ee62a",
   "metadata": {},
   "source": [
    "# shors algorithm(7)"
   ]
  },
  {
   "cell_type": "code",
   "execution_count": 15,
   "id": "3bb5859f",
   "metadata": {},
   "outputs": [
    {
     "data": {
      "text/plain": [
       "KruskalResult(statistic=2.705397013778411, pvalue=0.25854164205406216)"
      ]
     },
     "execution_count": 15,
     "metadata": {},
     "output_type": "execute_result"
    }
   ],
   "source": [
    "#if p value less than alpha reject\n",
    "qiskit_data = np.concatenate((np.full(651, 3+5), np.full(349, 3)))\n",
    "\n",
    "cirq_data = np.concatenate((np.full(685, 3+5), np.full(315, 3)))\n",
    "\n",
    "qs_data = np.concatenate((np.full(662, 3+5), np.full(338, 3)))\n",
    "\n",
    "kruskal(qiskit_data, cirq_data, qs_data)"
   ]
  },
  {
   "cell_type": "markdown",
   "id": "4fdb097b",
   "metadata": {},
   "source": [
    "### P-Value of 0.25.... > 0.05 significance level, we cannot refute the null hypothesis"
   ]
  },
  {
   "cell_type": "markdown",
   "id": "008d9c3e",
   "metadata": {},
   "source": [
    "# shors algorithm(11)"
   ]
  },
  {
   "cell_type": "code",
   "execution_count": 18,
   "id": "b7215555",
   "metadata": {},
   "outputs": [
    {
     "ename": "ValueError",
     "evalue": "All numbers are identical in kruskal",
     "output_type": "error",
     "traceback": [
      "\u001b[1;31m---------------------------------------------------------------------------\u001b[0m",
      "\u001b[1;31mValueError\u001b[0m                                Traceback (most recent call last)",
      "\u001b[1;32m~\\AppData\\Local\\Temp/ipykernel_18280/3933704069.py\u001b[0m in \u001b[0;36m<module>\u001b[1;34m\u001b[0m\n\u001b[0;32m      6\u001b[0m \u001b[0mqs_data\u001b[0m \u001b[1;33m=\u001b[0m \u001b[0mnp\u001b[0m\u001b[1;33m.\u001b[0m\u001b[0mconcatenate\u001b[0m\u001b[1;33m(\u001b[0m\u001b[1;33m(\u001b[0m\u001b[0mnp\u001b[0m\u001b[1;33m.\u001b[0m\u001b[0mfull\u001b[0m\u001b[1;33m(\u001b[0m\u001b[1;36m1000\u001b[0m\u001b[1;33m,\u001b[0m \u001b[1;36m3\u001b[0m\u001b[1;33m+\u001b[0m\u001b[1;36m5\u001b[0m\u001b[1;33m)\u001b[0m\u001b[1;33m,\u001b[0m \u001b[0mnp\u001b[0m\u001b[1;33m.\u001b[0m\u001b[0mfull\u001b[0m\u001b[1;33m(\u001b[0m\u001b[1;36m0\u001b[0m\u001b[1;33m,\u001b[0m \u001b[1;36m3\u001b[0m\u001b[1;33m)\u001b[0m\u001b[1;33m)\u001b[0m\u001b[1;33m)\u001b[0m\u001b[1;33m\u001b[0m\u001b[1;33m\u001b[0m\u001b[0m\n\u001b[0;32m      7\u001b[0m \u001b[1;33m\u001b[0m\u001b[0m\n\u001b[1;32m----> 8\u001b[1;33m \u001b[0mkruskal\u001b[0m\u001b[1;33m(\u001b[0m\u001b[0mqiskit_data\u001b[0m\u001b[1;33m,\u001b[0m \u001b[0mcirq_data\u001b[0m\u001b[1;33m,\u001b[0m \u001b[0mqs_data\u001b[0m\u001b[1;33m)\u001b[0m\u001b[1;33m\u001b[0m\u001b[1;33m\u001b[0m\u001b[0m\n\u001b[0m",
      "\u001b[1;32m~\\anaconda3\\lib\\site-packages\\scipy\\stats\\stats.py\u001b[0m in \u001b[0;36mkruskal\u001b[1;34m(nan_policy, *args)\u001b[0m\n\u001b[0;32m   7893\u001b[0m     \u001b[0mties\u001b[0m \u001b[1;33m=\u001b[0m \u001b[0mtiecorrect\u001b[0m\u001b[1;33m(\u001b[0m\u001b[0mranked\u001b[0m\u001b[1;33m)\u001b[0m\u001b[1;33m\u001b[0m\u001b[1;33m\u001b[0m\u001b[0m\n\u001b[0;32m   7894\u001b[0m     \u001b[1;32mif\u001b[0m \u001b[0mties\u001b[0m \u001b[1;33m==\u001b[0m \u001b[1;36m0\u001b[0m\u001b[1;33m:\u001b[0m\u001b[1;33m\u001b[0m\u001b[1;33m\u001b[0m\u001b[0m\n\u001b[1;32m-> 7895\u001b[1;33m         \u001b[1;32mraise\u001b[0m \u001b[0mValueError\u001b[0m\u001b[1;33m(\u001b[0m\u001b[1;34m'All numbers are identical in kruskal'\u001b[0m\u001b[1;33m)\u001b[0m\u001b[1;33m\u001b[0m\u001b[1;33m\u001b[0m\u001b[0m\n\u001b[0m\u001b[0;32m   7896\u001b[0m \u001b[1;33m\u001b[0m\u001b[0m\n\u001b[0;32m   7897\u001b[0m     \u001b[1;31m# Compute sum^2/n for each group and sum\u001b[0m\u001b[1;33m\u001b[0m\u001b[1;33m\u001b[0m\u001b[1;33m\u001b[0m\u001b[0m\n",
      "\u001b[1;31mValueError\u001b[0m: All numbers are identical in kruskal"
     ]
    }
   ],
   "source": [
    "#if p value less than alpha reject\n",
    "qiskit_data = np.concatenate((np.full(1000, 3+5), np.full(0, 3)))\n",
    "\n",
    "cirq_data = np.concatenate((np.full(1000, 3+5), np.full(0, 3)))\n",
    "\n",
    "qs_data = np.concatenate((np.full(1000, 3+5), np.full(0, 3)))\n",
    "\n",
    "kruskal(qiskit_data, cirq_data, qs_data)"
   ]
  },
  {
   "cell_type": "markdown",
   "id": "8d3448ef",
   "metadata": {},
   "source": [
    "### Since all values are identical, we can't perform the test. \n",
    "Though we know that we cant refute the null hypothesis (the data sets come from the same population)"
   ]
  }
 ],
 "metadata": {
  "kernelspec": {
   "display_name": "Python [conda env:root] *",
   "language": "python",
   "name": "conda-root-py"
  },
  "language_info": {
   "codemirror_mode": {
    "name": "ipython",
    "version": 3
   },
   "file_extension": ".py",
   "mimetype": "text/x-python",
   "name": "python",
   "nbconvert_exporter": "python",
   "pygments_lexer": "ipython3",
   "version": "3.8.12"
  }
 },
 "nbformat": 4,
 "nbformat_minor": 5
}
