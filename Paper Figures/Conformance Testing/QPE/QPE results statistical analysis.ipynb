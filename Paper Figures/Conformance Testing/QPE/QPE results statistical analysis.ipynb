{
 "cells": [
  {
   "cell_type": "code",
   "execution_count": 10,
   "id": "ebdac72e",
   "metadata": {},
   "outputs": [],
   "source": [
    "from scipy.stats import kruskal, f_oneway\n",
    "import pandas as pd\n",
    "import numpy as np"
   ]
  },
  {
   "cell_type": "markdown",
   "id": "04335007",
   "metadata": {},
   "source": [
    "# Input of (8, pi/2) data"
   ]
  },
  {
   "cell_type": "code",
   "execution_count": 2,
   "id": "136d0bcd",
   "metadata": {},
   "outputs": [
    {
     "ename": "ValueError",
     "evalue": "All numbers are identical in kruskal",
     "output_type": "error",
     "traceback": [
      "\u001b[1;31m---------------------------------------------------------------------------\u001b[0m",
      "\u001b[1;31mValueError\u001b[0m                                Traceback (most recent call last)",
      "\u001b[1;32m~\\AppData\\Local\\Temp/ipykernel_15932/533229599.py\u001b[0m in \u001b[0;36m<module>\u001b[1;34m\u001b[0m\n\u001b[0;32m      6\u001b[0m \u001b[0mqs_data\u001b[0m \u001b[1;33m=\u001b[0m \u001b[0mnp\u001b[0m\u001b[1;33m.\u001b[0m\u001b[0mfull\u001b[0m\u001b[1;33m(\u001b[0m\u001b[1;36m10000\u001b[0m\u001b[1;33m,\u001b[0m \u001b[1;36m0.25\u001b[0m\u001b[1;33m)\u001b[0m\u001b[1;33m\u001b[0m\u001b[1;33m\u001b[0m\u001b[0m\n\u001b[0;32m      7\u001b[0m \u001b[1;33m\u001b[0m\u001b[0m\n\u001b[1;32m----> 8\u001b[1;33m \u001b[0mkruskal\u001b[0m\u001b[1;33m(\u001b[0m\u001b[0mqiskit_data\u001b[0m\u001b[1;33m,\u001b[0m \u001b[0mcirq_data\u001b[0m\u001b[1;33m,\u001b[0m \u001b[0mqs_data\u001b[0m\u001b[1;33m)\u001b[0m\u001b[1;33m\u001b[0m\u001b[1;33m\u001b[0m\u001b[0m\n\u001b[0m",
      "\u001b[1;32m~\\anaconda3\\lib\\site-packages\\scipy\\stats\\stats.py\u001b[0m in \u001b[0;36mkruskal\u001b[1;34m(nan_policy, *args)\u001b[0m\n\u001b[0;32m   7893\u001b[0m     \u001b[0mties\u001b[0m \u001b[1;33m=\u001b[0m \u001b[0mtiecorrect\u001b[0m\u001b[1;33m(\u001b[0m\u001b[0mranked\u001b[0m\u001b[1;33m)\u001b[0m\u001b[1;33m\u001b[0m\u001b[1;33m\u001b[0m\u001b[0m\n\u001b[0;32m   7894\u001b[0m     \u001b[1;32mif\u001b[0m \u001b[0mties\u001b[0m \u001b[1;33m==\u001b[0m \u001b[1;36m0\u001b[0m\u001b[1;33m:\u001b[0m\u001b[1;33m\u001b[0m\u001b[1;33m\u001b[0m\u001b[0m\n\u001b[1;32m-> 7895\u001b[1;33m         \u001b[1;32mraise\u001b[0m \u001b[0mValueError\u001b[0m\u001b[1;33m(\u001b[0m\u001b[1;34m'All numbers are identical in kruskal'\u001b[0m\u001b[1;33m)\u001b[0m\u001b[1;33m\u001b[0m\u001b[1;33m\u001b[0m\u001b[0m\n\u001b[0m\u001b[0;32m   7896\u001b[0m \u001b[1;33m\u001b[0m\u001b[0m\n\u001b[0;32m   7897\u001b[0m     \u001b[1;31m# Compute sum^2/n for each group and sum\u001b[0m\u001b[1;33m\u001b[0m\u001b[1;33m\u001b[0m\u001b[1;33m\u001b[0m\u001b[0m\n",
      "\u001b[1;31mValueError\u001b[0m: All numbers are identical in kruskal"
     ]
    }
   ],
   "source": [
    "#if p value less than alpha reject\n",
    "qiskit_data = np.full(10000, 0.25)\n",
    "\n",
    "cirq_data = np.full(10000, 0.25)\n",
    "\n",
    "qs_data = np.full(10000, 0.25)\n",
    "\n",
    "kruskal(qiskit_data, cirq_data, qs_data)\n"
   ]
  },
  {
   "cell_type": "markdown",
   "id": "6c968d12",
   "metadata": {},
   "source": [
    "### Since all results are identical, we can't perform the test. \n",
    "Though we know that we cant refute the null hypothesis (the data sets come from the same population)"
   ]
  },
  {
   "cell_type": "markdown",
   "id": "9798a712",
   "metadata": {},
   "source": [
    "# Input of (8, 3*pi/2) data"
   ]
  },
  {
   "cell_type": "code",
   "execution_count": 3,
   "id": "3296044e",
   "metadata": {},
   "outputs": [
    {
     "ename": "ValueError",
     "evalue": "All numbers are identical in kruskal",
     "output_type": "error",
     "traceback": [
      "\u001b[1;31m---------------------------------------------------------------------------\u001b[0m",
      "\u001b[1;31mValueError\u001b[0m                                Traceback (most recent call last)",
      "\u001b[1;32m~\\AppData\\Local\\Temp/ipykernel_15932/3783232294.py\u001b[0m in \u001b[0;36m<module>\u001b[1;34m\u001b[0m\n\u001b[0;32m      6\u001b[0m \u001b[0mqs_data\u001b[0m \u001b[1;33m=\u001b[0m \u001b[0mnp\u001b[0m\u001b[1;33m.\u001b[0m\u001b[0mfull\u001b[0m\u001b[1;33m(\u001b[0m\u001b[1;36m10000\u001b[0m\u001b[1;33m,\u001b[0m \u001b[1;36m0.75\u001b[0m\u001b[1;33m)\u001b[0m\u001b[1;33m\u001b[0m\u001b[1;33m\u001b[0m\u001b[0m\n\u001b[0;32m      7\u001b[0m \u001b[1;33m\u001b[0m\u001b[0m\n\u001b[1;32m----> 8\u001b[1;33m \u001b[0mkruskal\u001b[0m\u001b[1;33m(\u001b[0m\u001b[0mqiskit_data\u001b[0m\u001b[1;33m,\u001b[0m \u001b[0mcirq_data\u001b[0m\u001b[1;33m,\u001b[0m \u001b[0mqs_data\u001b[0m\u001b[1;33m)\u001b[0m\u001b[1;33m\u001b[0m\u001b[1;33m\u001b[0m\u001b[0m\n\u001b[0m",
      "\u001b[1;32m~\\anaconda3\\lib\\site-packages\\scipy\\stats\\stats.py\u001b[0m in \u001b[0;36mkruskal\u001b[1;34m(nan_policy, *args)\u001b[0m\n\u001b[0;32m   7893\u001b[0m     \u001b[0mties\u001b[0m \u001b[1;33m=\u001b[0m \u001b[0mtiecorrect\u001b[0m\u001b[1;33m(\u001b[0m\u001b[0mranked\u001b[0m\u001b[1;33m)\u001b[0m\u001b[1;33m\u001b[0m\u001b[1;33m\u001b[0m\u001b[0m\n\u001b[0;32m   7894\u001b[0m     \u001b[1;32mif\u001b[0m \u001b[0mties\u001b[0m \u001b[1;33m==\u001b[0m \u001b[1;36m0\u001b[0m\u001b[1;33m:\u001b[0m\u001b[1;33m\u001b[0m\u001b[1;33m\u001b[0m\u001b[0m\n\u001b[1;32m-> 7895\u001b[1;33m         \u001b[1;32mraise\u001b[0m \u001b[0mValueError\u001b[0m\u001b[1;33m(\u001b[0m\u001b[1;34m'All numbers are identical in kruskal'\u001b[0m\u001b[1;33m)\u001b[0m\u001b[1;33m\u001b[0m\u001b[1;33m\u001b[0m\u001b[0m\n\u001b[0m\u001b[0;32m   7896\u001b[0m \u001b[1;33m\u001b[0m\u001b[0m\n\u001b[0;32m   7897\u001b[0m     \u001b[1;31m# Compute sum^2/n for each group and sum\u001b[0m\u001b[1;33m\u001b[0m\u001b[1;33m\u001b[0m\u001b[1;33m\u001b[0m\u001b[0m\n",
      "\u001b[1;31mValueError\u001b[0m: All numbers are identical in kruskal"
     ]
    }
   ],
   "source": [
    "#if p value less than alpha reject\n",
    "qiskit_data = np.full(10000, 0.75)\n",
    "\n",
    "cirq_data = np.full(10000, 0.75)\n",
    "\n",
    "qs_data = np.full(10000, 0.75)\n",
    "\n",
    "kruskal(qiskit_data, cirq_data, qs_data)"
   ]
  },
  {
   "cell_type": "markdown",
   "id": "b9b2ffe6",
   "metadata": {},
   "source": [
    "### Since all results are identical, we can't perform the test. \n",
    "Though we know that we cant refute the null hypothesis (the data sets come from the same population)"
   ]
  },
  {
   "cell_type": "markdown",
   "id": "b94f43b9",
   "metadata": {},
   "source": [
    "# Input of (4, 5*pi/7)"
   ]
  },
  {
   "cell_type": "code",
   "execution_count": 15,
   "id": "0d84b080",
   "metadata": {},
   "outputs": [
    {
     "name": "stdout",
     "output_type": "stream",
     "text": [
      "[0.375 0.375 0.375 ... 0.875 0.875 0.875]\n",
      "[0.375 0.375 0.375 ... 0.875 0.875 0.875]\n",
      "[0.375 0.375 0.375 ... 0.875 0.875 0.875]\n"
     ]
    },
    {
     "data": {
      "text/plain": [
       "KruskalResult(statistic=1.3878448146687143, pvalue=0.4996125368181151)"
      ]
     },
     "execution_count": 15,
     "metadata": {},
     "output_type": "execute_result"
    }
   ],
   "source": [
    "qiskit_data = np.concatenate((np.full(7576, 0.375), np.full(1253, 0.3125), np.full(359, 0.4375), \n",
    "                        np.full(218, 0.25), np.full(121, 0.5), np.full(101, 0.1875),\n",
    "                        np.full(66, 0.5625), np.full(57, 0.125), np.full(42, 0.625),\n",
    "                        np.full(41, 0.0625), np.full(35, 0), np.full(29, 0.9375),\n",
    "                        np.full(27, 0.8125), np.full(27, 0.6875), np.full(25, 0.75),\n",
    "                        np.full(23, 0.875)))\n",
    "\n",
    "print(qiskit_data)\n",
    "\n",
    "cirq_data = np.concatenate((np.full(7610, 0.375), np.full(1208, 0.3125), np.full(377, 0.4375), \n",
    "                        np.full(235, 0.25), np.full(129, 0.5), np.full(89, 0.1875),\n",
    "                        np.full(68, 0.5625), np.full(55, 0.125), np.full(36, 0.625),\n",
    "                        np.full(30, 0.0625), np.full(31, 0), np.full(28, 0.9375),\n",
    "                        np.full(24, 0.8125), np.full(34, 0.6875), np.full(25, 0.75),\n",
    "                        np.full(21, 0.875)))\n",
    "\n",
    "print(cirq_data)\n",
    "\n",
    "qs_data = np.concatenate((np.full(7593, 0.375), np.full(1247, 0.3125), np.full(384, 0.4375), \n",
    "                        np.full(213, 0.25), np.full(121, 0.5), np.full(114, 0.1875),\n",
    "                        np.full(61, 0.5625), np.full(35, 0.125), np.full(39, 0.625),\n",
    "                        np.full(28, 0.0625), np.full(38, 0), np.full(22, 0.9375),\n",
    "                        np.full(18, 0.8125), np.full(28, 0.6875), np.full(27, 0.75),\n",
    "                        np.full(32, 0.875)))\n",
    "\n",
    "print(qs_data)\n",
    "\n",
    "kruskal(qiskit_data, cirq_data, qs_data)"
   ]
  },
  {
   "cell_type": "markdown",
   "id": "66c98670",
   "metadata": {},
   "source": [
    "### P-Value of 0.49.... > 0.05 significance level, we cannot refute the null hypothesis"
   ]
  },
  {
   "cell_type": "markdown",
   "id": "4f0bf670",
   "metadata": {},
   "source": [
    "# Input of (6, 5*pi/7)"
   ]
  },
  {
   "cell_type": "code",
   "execution_count": 20,
   "id": "de5f365d",
   "metadata": {},
   "outputs": [
    {
     "name": "stdout",
     "output_type": "stream",
     "text": [
      "[0.375   0.375   0.375   ... 0.5     0.5     0.46875]\n",
      "[0.375    0.375    0.375    ... 0.078125 0.78125  0.5     ]\n",
      "[0.359375 0.359375 0.359375 ... 0.078125 0.9375   0.984375]\n"
     ]
    },
    {
     "data": {
      "text/plain": [
       "F_onewayResult(statistic=0.8246252825858991, pvalue=0.4384091753965552)"
      ]
     },
     "execution_count": 20,
     "metadata": {},
     "output_type": "execute_result"
    }
   ],
   "source": [
    "qiskit_data = np.concatenate((np.full(137,0.375),  np.full(9375,0.359375),  np.full(235,0.34375),  \n",
    "                                np.full(4,0.265625),  np.full(52,0.390625),  np.full(4,0.453125),  \n",
    "                                np.full(58,0.328125),  np.full(15,0.296875),  np.full(10,0.421875),  \n",
    "                                np.full(27,0.40625),  np.full(1,0.890625),  np.full(21,0.3125),  \n",
    "                                np.full(1,0.140625),  np.full(1,0.171875),  np.full(5,0.53125),  \n",
    "                                np.full(1,0.921875),  np.full(2,0.21875),  np.full(1,0),  \n",
    "                                np.full(1,0.9375),  np.full(1,0.203125),  np.full(1,0.5625),  \n",
    "                                np.full(4,0.234375),  np.full(1,0.59375),  np.full(1,0.09375),  \n",
    "                                np.full(1,0.734375),  np.full(7,0.4375),  np.full(1,0.953125),  \n",
    "                                np.full(2,0.1875),  np.full(2,0.671875),  np.full(1,0.0625),  \n",
    "                                np.full(1,0.703125),  np.full(1,0.796875),  np.full(1,0.484375),  \n",
    "                                np.full(11,0.28125),  np.full(2,0.15625),  np.full(2,0.609375),  \n",
    "                                np.full(1,0.84375),  np.full(1,0.65625),  np.full(1,0.046875),  \n",
    "                                np.full(3,0.25),  np.full(2,0.5),  np.full(1,0.46875)))\n",
    "\n",
    "print(qiskit_data)\n",
    "\n",
    "cirq_data = np.concatenate((np.full(143,0.375), np.full(9340,0.359375), np.full(3,0.484375), \n",
    "                                np.full(61,0.328125), np.full(13,0.40625), np.full(260,0.34375), \n",
    "                                np.full(1,0.921875), np.full(45,0.390625), np.full(13,0.421875), \n",
    "                                np.full(2,0.09375), np.full(5,0.234375), np.full(14,0.296875), \n",
    "                                np.full(3,0.4375), np.full(34,0.3125), np.full(1,0.765625), \n",
    "                                np.full(2,0.75), np.full(11,0.28125), np.full(6,0.46875), \n",
    "                                np.full(5,0.265625), np.full(2,0.140625), np.full(2,0.796875), \n",
    "                                np.full(2,0.515625), np.full(3,0.21875), np.full(2,0.703125), \n",
    "                                np.full(1,0.625), np.full(1,0.53125), \n",
    "                                np.full(1,0.984375), np.full(1,0.546875), np.full(2,0.640625), \n",
    "                                np.full(2,0.1875), np.full(2,0.15625), np.full(2,0.125), \n",
    "                                np.full(1,0.03125), np.full(1,0.859375), np.full(2,0.25), \n",
    "                                np.full(1,0.453125), np.full(3,0.046875), np.full(1,0.0625), \n",
    "                                np.full(1,0.953125), np.full(1,0.59375), np.full(1,0.90625), \n",
    "                                np.full(1,0.078125), np.full(1,0.78125), np.full(1,0.5)))\n",
    "\n",
    "print(cirq_data)\n",
    "\n",
    "qs_data = np.concatenate((np.full(9324,0.359375), np.full(290,0.34375), np.full(137,0.375), \n",
    "                                np.full(57,0.328125), np.full(30,0.390625), np.full(20,0.3125), \n",
    "                                np.full(18,0.296875), np.full(17,0.40625), np.full(13,0.421875), \n",
    "                                np.full(11,0.28125), np.full(10,0.4375), np.full(9,0.265625), \n",
    "                                np.full(8,0.25), np.full(6,0.453125), np.full(4,0.46875), \n",
    "                                np.full(4,0.515625), np.full(4,0.234375), np.full(3,0.5), \n",
    "                                np.full(3,0.1875), np.full(3,0.171875), np.full(2,0.125), \n",
    "                                np.full(2,0.21875), np.full(2,0.75), np.full(2,0.609375), \n",
    "                                np.full(2,0.140625), np.full(2,0.203125), np.full(1,0.53125), \n",
    "                                np.full(1,0.546875), np.full(1,0.640625), np.full(1,0.0625), \n",
    "                                np.full(1,0.78125), np.full(1,0.671875), np.full(1,0), \n",
    "                                np.full(1,0.484375), np.full(1,0.796875), np.full(1,0.921875), \n",
    "                                np.full(1,0.03125), np.full(1,0.015625), np.full(1,0.84375), \n",
    "                                np.full(1,0.578125), np.full(1,0.078125), np.full(1,0.9375), \n",
    "                                np.full(1,0.984375)))\n",
    "\n",
    "print(qs_data)\n",
    "\n",
    "# since we have so many 'categories' it makes more sense to run a traditional ANOVA test\n",
    "f_oneway(qiskit_data, cirq_data, qs_data)"
   ]
  },
  {
   "cell_type": "markdown",
   "id": "cfd5717b",
   "metadata": {},
   "source": [
    "### P-Value of 0.43.... > 0.05 significance level, we cannot refute the null hypothesis"
   ]
  },
  {
   "cell_type": "markdown",
   "id": "7a2ee62a",
   "metadata": {},
   "source": [
    "# Input of (7, 13*pi/9)"
   ]
  },
  {
   "cell_type": "code",
   "execution_count": 23,
   "id": "3bb5859f",
   "metadata": {},
   "outputs": [
    {
     "name": "stdout",
     "output_type": "stream",
     "text": [
      "[0.71875  0.71875  0.71875  ... 0.109375 0.203125 0.515625]\n",
      "[0.71875   0.71875   0.71875   ... 0.2578125 0.2109375 0.21875  ]\n",
      "[0.71875   0.71875   0.71875   ... 0.3359375 0.0859375 0.2734375]\n"
     ]
    },
    {
     "data": {
      "text/plain": [
       "F_onewayResult(statistic=1.4510461615468406, pvalue=0.2343414651481023)"
      ]
     },
     "execution_count": 23,
     "metadata": {},
     "output_type": "execute_result"
    }
   ],
   "source": [
    "qiskit_data = np.concatenate((np.full(4969,0.71875), np.full(2,0.0546875), np.full(4,0.5078125), \n",
    "                                np.full(3171,0.7265625), np.full(48,0.6875), np.full(7,0.828125), \n",
    "                                np.full(53,0.7578125), np.full(176,0.703125), np.full(8,0.8125), \n",
    "                                np.full(406,0.734375), np.full(144,0.7421875), np.full(475,0.7109375), \n",
    "                                np.full(8,0.8359375), np.full(1,0.265625), np.full(3,0.484375), \n",
    "                                np.full(3,0.8828125), np.full(6,0.6015625), np.full(38,0.6796875), \n",
    "                                np.full(80,0.75), np.full(1,0.1640625), np.full(87,0.6953125), \n",
    "                                np.full(25,0.7734375), np.full(18,0.78125), np.full(5,0.5859375), \n",
    "                                np.full(5,0.9296875), np.full(14,0.6640625), np.full(10,0.6484375), \n",
    "                                np.full(3,0.8984375), np.full(2,0.6171875), np.full(31,0.765625), \n",
    "                                np.full(16,0.671875), np.full(14,0.7890625), np.full(4,0.8671875), \n",
    "                                np.full(7,0.625), np.full(12,0.6328125), np.full(4,0.609375), \n",
    "                                np.full(3,0.875), np.full(2,0.4765625), np.full(1,0.2734375), \n",
    "                                np.full(2,0.34375), np.full(1,0.40625), np.full(5,0.5390625), \n",
    "                                np.full(8,0.640625), np.full(6,0.796875), np.full(1,0.21875), \n",
    "                                np.full(9,0.8046875), np.full(4,0.5703125), np.full(1,0.4453125), \n",
    "                                np.full(3,0.5), np.full(1,0.046875), np.full(11,0.65625), \n",
    "                                np.full(6,0.8203125), np.full(7,0.84375), np.full(1,0.296875), \n",
    "                                np.full(2,0.015625), np.full(1,0.53125), np.full(1,0.953125), \n",
    "                                np.full(1,0.4140625), np.full(5,0.8515625), np.full(1,0.9921875), \n",
    "                                np.full(1,0.5234375), np.full(1,0.0390625), np.full(1,0.4609375), \n",
    "                                np.full(1,0.921875), np.full(4,0.59375), np.full(2,0.90625), \n",
    "                                np.full(9,0.578125), np.full(1,0.4921875), np.full(1,0.2578125), \n",
    "                                np.full(4,0.859375), np.full(1,0.4296875), np.full(1,0.5625), \n",
    "                                np.full(2,0), np.full(2,0.546875), np.full(2,0.234375), \n",
    "                                np.full(1,0.2109375), np.full(1,0.328125), np.full(3,0.890625), \n",
    "                                np.full(1,0.171875), np.full(1,0.375), np.full(4,0.9375), \n",
    "                                np.full(1,0.9609375), np.full(1,0.15625), np.full(1,0.390625), \n",
    "                                np.full(2,0.0859375), np.full(3,0.3984375), np.full(1,0.9140625), \n",
    "                                np.full(1,0.2265625), np.full(1,0.109375), np.full(1,0.203125), \n",
    "                                np.full(1,0.515625)))\n",
    "\n",
    "print(qiskit_data)\n",
    "\n",
    "cirq_data = np.concatenate((np.full(5010,0.71875), np.full(3207,0.7265625), np.full(372,0.734375),\n",
    "                                np.full(32,0.765625), np.full(153,0.7421875), np.full(164,0.703125),\n",
    "                                np.full(28,0.7734375), np.full(19,0.671875), np.full(454,0.7109375),\n",
    "                                np.full(5,0.8828125), np.full(19,0.6640625), np.full(78,0.6953125),\n",
    "                                np.full(11,0.7890625), np.full(1,0.3515625), np.full(8,0.640625),\n",
    "                                np.full(38,0.6875), np.full(88,0.75), np.full(10,0.65625),\n",
    "                                np.full(3,0.59375), np.full(45,0.7578125), np.full(3,0.328125), \n",
    "                                np.full(3,0.5234375), np.full(3,0.6171875), np.full(40,0.6796875), \n",
    "                                np.full(6,0.84375), np.full(9,0.6328125), np.full(1,0.359375), \n",
    "                                np.full(2,0.4296875), np.full(2,0.515625), np.full(6,0.5546875), \n",
    "                                np.full(13,0.796875), np.full(4,0.8671875), np.full(5,0.6015625), \n",
    "                                np.full(2,0.09375), np.full(10,0.8046875), np.full(2,0.1796875), \n",
    "                                np.full(4,0.5625), np.full(12,0.78125), np.full(7,0.828125), \n",
    "                                np.full(12,0.8203125), np.full(3,0.859375), np.full(3,0.875), \n",
    "                                np.full(1,0.4609375), np.full(4,0.578125), np.full(2,0.984375), \n",
    "                                np.full(3,0.96875), np.full(1,0.3359375), np.full(5,0.890625), \n",
    "                                np.full(8,0.625), np.full(5,0.8359375), np.full(3,0.171875), \n",
    "                                np.full(3,0.8515625), np.full(12,0.6484375), np.full(2,0.453125), \n",
    "                                np.full(1,0.90625), np.full(2,0.3828125), np.full(5,0.53125), \n",
    "                                np.full(1,0.1953125), np.full(1,0.03125), np.full(2,0.953125), \n",
    "                                np.full(1,0.34375), np.full(3,0.8125), np.full(1,0.0078125), \n",
    "                                np.full(1,0.9609375), np.full(1,0.0234375), np.full(2,0.609375), \n",
    "                                np.full(1,0.1015625), np.full(1,0.921875), np.full(3,0.9140625), \n",
    "                                np.full(7,0.546875), np.full(1,0.5703125), np.full(2,0.25), \n",
    "                                np.full(1,0.5), np.full(1,0.0703125), np.full(2,0.9765625), \n",
    "                                np.full(2,0.9453125), np.full(1,0.2890625), np.full(1,0.046875), \n",
    "                                np.full(1,0.9296875), np.full(1,0.8984375), np.full(1,0.203125), \n",
    "                                np.full(2,0.484375), np.full(2,0.5859375), np.full(1,0.2578125),\n",
    "                                np.full(1,0.2109375), np.full(1,0.21875))) \n",
    "\n",
    "\n",
    "print(cirq_data)\n",
    "\n",
    "qs_data = np.concatenate((np.full(4903,0.71875), np.full(3204,0.7265625), np.full(466,0.7109375), \n",
    "                                np.full(427,0.734375), np.full(162,0.703125), np.full(160,0.7421875),\n",
    "                                np.full(95,0.6953125), np.full(78,0.75), np.full(56,0.6875), \n",
    "                                np.full(41,0.6796875), np.full(38,0.7578125), np.full(30,0.765625), \n",
    "                                np.full(24,0.671875), np.full(21,0.65625), np.full(20,0.7734375),\n",
    "                                np.full(16,0.78125), np.full(15,0.8046875), np.full(14,0.6640625), \n",
    "                                np.full(14,0.6484375), np.full(13,0.7890625), np.full(11,0.796875), \n",
    "                                np.full(9,0.640625), np.full(8,0.8203125), np.full(6,0.6171875), \n",
    "                                np.full(6,0.6328125), np.full(5,0.8359375), np.full(5,0.8125), \n",
    "                                np.full(5,0.625), np.full(5,0.953125), np.full(5,0.5859375), \n",
    "                                np.full(4,0.9140625), np.full(4,0.609375), np.full(4,0.6015625), \n",
    "                                np.full(4,0.84375), np.full(4,0.875), np.full(4,0.8828125), \n",
    "                                np.full(4,0.59375), np.full(4,0.828125), np.full(4,0.5234375),\n",
    "                                np.full(3,0.90625), np.full(3,0.8984375), np.full(3,0.859375), \n",
    "                                np.full(3,0.9765625), np.full(3,0.1171875), np.full(3,0.5625), \n",
    "                                np.full(3,0.03125), np.full(3,0.8515625), np.full(3,0.21875),\n",
    "                                np.full(3,0.4921875), np.full(3,0.546875), np.full(2,0.515625), \n",
    "                                np.full(2,0.5390625), np.full(2,0.375), np.full(2,0.3125), \n",
    "                                np.full(2,0.9296875), np.full(2,0.8671875), np.full(2,0.53125), \n",
    "                                np.full(2,0.234375), np.full(2,0.5546875), np.full(2,0.0703125),\n",
    "                                np.full(2,0.203125), np.full(2,0.921875), np.full(2,0.5), \n",
    "                                np.full(2,0.5703125), np.full(2,0.3203125), np.full(2,0.046875),\n",
    "                                np.full(2,0.171875), np.full(2,0.9453125), np.full(2,0.3984375), \n",
    "                                np.full(1,0.484375), np.full(1,0.4140625), np.full(1,0.9375), \n",
    "                                np.full(1,0.15625), np.full(1,0.96875), np.full(1,0.421875),\n",
    "                                np.full(1,0.46875), np.full(1,0.4296875), np.full(1,0.9921875), \n",
    "                                np.full(1,0.109375), np.full(1,0.1328125), np.full(1,0.1796875), \n",
    "                                np.full(1,0.4765625), np.full(1,0.1015625), np.full(1,0.2890625),\n",
    "                                np.full(1,0.078125), np.full(1,0.265625), np.full(1,0.1953125),\n",
    "                                np.full(1,0.0078125), np.full(1,0.25), np.full(1,0.453125), \n",
    "                                np.full(1,0), np.full(1,0.390625), np.full(1,0.09375), \n",
    "                                np.full(1,0.5078125), np.full(1,0.890625), np.full(1,0.4609375),\n",
    "                                np.full(1,0.984375), np.full(1,0.3359375), np.full(1,0.0859375), \n",
    "                                np.full(1,0.2734375)))\n",
    "\n",
    "print(qs_data)\n",
    "\n",
    "# since we have so many 'categories' it makes more sense to run a traditional ANOVA test\n",
    "f_oneway(qiskit_data, cirq_data, qs_data)"
   ]
  },
  {
   "cell_type": "markdown",
   "id": "4fdb097b",
   "metadata": {},
   "source": [
    "### P-Value of 0.23.... > 0.05 significance level, we cannot refute the null hypothesis"
   ]
  }
 ],
 "metadata": {
  "kernelspec": {
   "display_name": "Python [conda env:root] *",
   "language": "python",
   "name": "conda-root-py"
  },
  "language_info": {
   "codemirror_mode": {
    "name": "ipython",
    "version": 3
   },
   "file_extension": ".py",
   "mimetype": "text/x-python",
   "name": "python",
   "nbconvert_exporter": "python",
   "pygments_lexer": "ipython3",
   "version": "3.8.12"
  }
 },
 "nbformat": 4,
 "nbformat_minor": 5
}
