{
 "cells": [
  {
   "cell_type": "code",
   "execution_count": 1,
   "id": "ebdac72e",
   "metadata": {},
   "outputs": [],
   "source": [
    "from scipy.stats import kruskal\n",
    "import pandas as pd\n",
    "import numpy as np"
   ]
  },
  {
   "cell_type": "markdown",
   "id": "04335007",
   "metadata": {},
   "source": [
    "# Input |0000> data"
   ]
  },
  {
   "cell_type": "code",
   "execution_count": 2,
   "id": "136d0bcd",
   "metadata": {},
   "outputs": [
    {
     "name": "stdout",
     "output_type": "stream",
     "text": [
      "[0 0 0 ... 0 0 0]\n"
     ]
    },
    {
     "ename": "ValueError",
     "evalue": "All numbers are identical in kruskal",
     "output_type": "error",
     "traceback": [
      "\u001b[1;31m---------------------------------------------------------------------------\u001b[0m",
      "\u001b[1;31mValueError\u001b[0m                                Traceback (most recent call last)",
      "\u001b[1;32m~\\AppData\\Local\\Temp/ipykernel_10472/138612535.py\u001b[0m in \u001b[0;36m<module>\u001b[1;34m\u001b[0m\n\u001b[0;32m      7\u001b[0m \u001b[0mqs_data\u001b[0m \u001b[1;33m=\u001b[0m \u001b[0mnp\u001b[0m\u001b[1;33m.\u001b[0m\u001b[0mfull\u001b[0m\u001b[1;33m(\u001b[0m\u001b[1;36m100000\u001b[0m\u001b[1;33m,\u001b[0m \u001b[1;36m0\u001b[0m\u001b[1;33m)\u001b[0m\u001b[1;33m\u001b[0m\u001b[1;33m\u001b[0m\u001b[0m\n\u001b[0;32m      8\u001b[0m \u001b[1;33m\u001b[0m\u001b[0m\n\u001b[1;32m----> 9\u001b[1;33m \u001b[0mkruskal\u001b[0m\u001b[1;33m(\u001b[0m\u001b[0mqiskit_data\u001b[0m\u001b[1;33m,\u001b[0m \u001b[0mcirq_data\u001b[0m\u001b[1;33m,\u001b[0m \u001b[0mqs_data\u001b[0m\u001b[1;33m)\u001b[0m\u001b[1;33m\u001b[0m\u001b[1;33m\u001b[0m\u001b[0m\n\u001b[0m",
      "\u001b[1;32m~\\anaconda3\\lib\\site-packages\\scipy\\stats\\stats.py\u001b[0m in \u001b[0;36mkruskal\u001b[1;34m(nan_policy, *args)\u001b[0m\n\u001b[0;32m   7893\u001b[0m     \u001b[0mties\u001b[0m \u001b[1;33m=\u001b[0m \u001b[0mtiecorrect\u001b[0m\u001b[1;33m(\u001b[0m\u001b[0mranked\u001b[0m\u001b[1;33m)\u001b[0m\u001b[1;33m\u001b[0m\u001b[1;33m\u001b[0m\u001b[0m\n\u001b[0;32m   7894\u001b[0m     \u001b[1;32mif\u001b[0m \u001b[0mties\u001b[0m \u001b[1;33m==\u001b[0m \u001b[1;36m0\u001b[0m\u001b[1;33m:\u001b[0m\u001b[1;33m\u001b[0m\u001b[1;33m\u001b[0m\u001b[0m\n\u001b[1;32m-> 7895\u001b[1;33m         \u001b[1;32mraise\u001b[0m \u001b[0mValueError\u001b[0m\u001b[1;33m(\u001b[0m\u001b[1;34m'All numbers are identical in kruskal'\u001b[0m\u001b[1;33m)\u001b[0m\u001b[1;33m\u001b[0m\u001b[1;33m\u001b[0m\u001b[0m\n\u001b[0m\u001b[0;32m   7896\u001b[0m \u001b[1;33m\u001b[0m\u001b[0m\n\u001b[0;32m   7897\u001b[0m     \u001b[1;31m# Compute sum^2/n for each group and sum\u001b[0m\u001b[1;33m\u001b[0m\u001b[1;33m\u001b[0m\u001b[1;33m\u001b[0m\u001b[0m\n",
      "\u001b[1;31mValueError\u001b[0m: All numbers are identical in kruskal"
     ]
    }
   ],
   "source": [
    "#if p value less than alpha reject\n",
    "qiskit_data = np.full(100000, 0)\n",
    "print(qiskit_data)\n",
    "\n",
    "cirq_data = np.full(100000, 0)\n",
    "\n",
    "qs_data = np.full(100000, 0)\n",
    "\n",
    "kruskal(qiskit_data, cirq_data, qs_data)\n"
   ]
  },
  {
   "cell_type": "markdown",
   "id": "6c968d12",
   "metadata": {},
   "source": [
    "### Since all values are identical, we can't perform the test. \n",
    "Though we know that we cant refute the null hypothesis (the data sets come from the same population)"
   ]
  },
  {
   "cell_type": "markdown",
   "id": "b94f43b9",
   "metadata": {},
   "source": [
    "# Input |0001> data"
   ]
  },
  {
   "cell_type": "code",
   "execution_count": null,
   "id": "0d84b080",
   "metadata": {},
   "outputs": [],
   "source": [
    "qiskit_data = np.concatenate((np.full(41192, 8), np.full(1555, 9), np.full(7096, 10), \n",
    "                        np.full(226, 11), np.full(41044, 12), np.full(1637, 13),\n",
    "                        np.full(6961, 14), np.full(289, 15)))\n",
    "\n",
    "print(qiskit_data)\n",
    "\n",
    "cirq_data = np.concatenate((np.full(41016, 8), np.full(1163, 9), np.full(7092, 10),\n",
    "                      np.full(301, 11), np.full(41024, 12), np.full(1635, 13),\n",
    "                      np.full(7017, 14), np.full(282, 15))) \n",
    "\n",
    "print(cirq_data)\n",
    "\n",
    "qs_data = np.concatenate((np.full(40973, 8), np.full(1706, 9), np.full(7123, 10),\n",
    "                      np.full(314, 11), np.full(40899, 12), np.full(1621, 13),\n",
    "                      np.full(7076, 14), np.full(288, 15)))\n",
    "\n",
    "print(qs_data)\n",
    "\n",
    "kruskal(qiskit_data, cirq_data, qs_data)"
   ]
  },
  {
   "cell_type": "markdown",
   "id": "66c98670",
   "metadata": {},
   "source": [
    "### P-Value of 0.69.... > 0.05 significance level, we cannot refute the null hypothesis"
   ]
  },
  {
   "cell_type": "markdown",
   "id": "4f0bf670",
   "metadata": {},
   "source": [
    "# Input |1001> data"
   ]
  },
  {
   "cell_type": "code",
   "execution_count": null,
   "id": "de5f365d",
   "metadata": {},
   "outputs": [],
   "source": [
    "qiskit_data = np.concatenate((np.full(1676, 8), np.full(40877, 9), np.full(285, 10), \n",
    "                        np.full(7103, 11), np.full(1610, 12), np.full(41135, 13),\n",
    "                        np.full(256, 14), np.full(7058, 15)))\n",
    "\n",
    "print(qiskit_data)\n",
    "\n",
    "cirq_data = np.concatenate((np.full(1639, 8), np.full(40954, 9), np.full(285, 10),\n",
    "                      np.full(6906, 11), np.full(1582, 12), np.full(41332, 13),\n",
    "                      np.full(265, 14), np.full(7037, 15))) \n",
    "\n",
    "print(cirq_data)\n",
    "\n",
    "qs_data = np.concatenate((np.full(1656, 8), np.full(41277, 9), np.full(251, 10),\n",
    "                      np.full(7103, 11), np.full(1608, 12), np.full(40752, 13),\n",
    "                      np.full(271, 14), np.full(7082, 15)))\n",
    "\n",
    "print(qs_data)\n",
    "\n",
    "kruskal(qiskit_data, cirq_data, qs_data)"
   ]
  },
  {
   "cell_type": "markdown",
   "id": "cfd5717b",
   "metadata": {},
   "source": [
    "### P-Value of 0.18.... > 0.05 significance level, we cannot refute the null hypothesis"
   ]
  },
  {
   "cell_type": "markdown",
   "id": "7a2ee62a",
   "metadata": {},
   "source": [
    "# Input of |1111> data"
   ]
  },
  {
   "cell_type": "code",
   "execution_count": null,
   "id": "3bb5859f",
   "metadata": {},
   "outputs": [],
   "source": [
    "qiskit_data = np.concatenate((np.full(41064, 8), np.full(1645, 9), np.full(7072, 10), \n",
    "                        np.full(261, 11), np.full(40850, 12), np.full(1612, 13),\n",
    "                        np.full(7223, 14), np.full(273, 15)))\n",
    "\n",
    "print(qiskit_data)\n",
    "\n",
    "cirq_data = np.concatenate((np.full(41036, 8), np.full(1582, 9), np.full(7094, 10),\n",
    "                      np.full(250, 11), np.full(41178, 12), np.full(1621, 13),\n",
    "                      np.full(6967, 14), np.full(272, 15))) \n",
    "\n",
    "\n",
    "print(cirq_data)\n",
    "\n",
    "qs_data = np.concatenate((np.full(41120, 8), np.full(1643, 9), np.full(6953, 10),\n",
    "                      np.full(251, 11), np.full(41011, 12), np.full(1631, 13),\n",
    "                      np.full(7131, 14), np.full(260, 15)))\n",
    "\n",
    "print(qs_data)\n",
    "\n",
    "kruskal(qiskit_data, cirq_data, qs_data)"
   ]
  },
  {
   "cell_type": "markdown",
   "id": "4fdb097b",
   "metadata": {},
   "source": [
    "### P-Value of 0.95.... > 0.05 significance level, we cannot refute the null hypothesis"
   ]
  },
  {
   "cell_type": "code",
   "execution_count": null,
   "id": "5b5b3b60",
   "metadata": {},
   "outputs": [],
   "source": []
  }
 ],
 "metadata": {
  "kernelspec": {
   "display_name": "Python [conda env:root] *",
   "language": "python",
   "name": "conda-root-py"
  },
  "language_info": {
   "codemirror_mode": {
    "name": "ipython",
    "version": 3
   },
   "file_extension": ".py",
   "mimetype": "text/x-python",
   "name": "python",
   "nbconvert_exporter": "python",
   "pygments_lexer": "ipython3",
   "version": "3.8.12"
  }
 },
 "nbformat": 4,
 "nbformat_minor": 5
}
