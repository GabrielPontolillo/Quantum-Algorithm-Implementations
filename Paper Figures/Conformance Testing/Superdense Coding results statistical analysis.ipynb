{
 "cells": [
  {
   "cell_type": "code",
   "execution_count": 1,
   "id": "ebdac72e",
   "metadata": {},
   "outputs": [],
   "source": [
    "from scipy.stats import kruskal\n",
    "import pandas as pd\n",
    "import numpy as np"
   ]
  },
  {
   "cell_type": "markdown",
   "id": "04335007",
   "metadata": {},
   "source": [
    "# Create bell pair"
   ]
  },
  {
   "cell_type": "code",
   "execution_count": 2,
   "id": "136d0bcd",
   "metadata": {},
   "outputs": [
    {
     "name": "stdout",
     "output_type": "stream",
     "text": [
      "['z00' 'z00' 'z00' ... 'y01' 'y01' 'y01']\n",
      "['z00' 'z00' 'z00' ... 'y01' 'y01' 'y01']\n",
      "['z00' 'z00' 'z00' ... 'y01' 'y01' 'y01']\n"
     ]
    },
    {
     "data": {
      "text/plain": [
       "KruskalResult(statistic=0.054521547024142365, pvalue=0.9731074477876508)"
      ]
     },
     "execution_count": 2,
     "metadata": {},
     "output_type": "execute_result"
    }
   ],
   "source": [
    "#if p value less than alpha reject\n",
    "qiskit_data = np.concatenate((np.full(4925, 'z00'), np.full(5075, 'z11'), np.full(5016, 'x00'), \n",
    "                        np.full(4984, 'x11'), np.full(4898, 'y10'), np.full(5102, 'y01')))\n",
    "\n",
    "print(qiskit_data)\n",
    "\n",
    "cirq_data = np.concatenate((np.full(5043, 'z00'), np.full(4957, 'z11'), np.full(5041, 'x00'), \n",
    "                        np.full(4959, 'x11'), np.full(4971, 'y10'), np.full(5029, 'y01')))\n",
    "\n",
    "print(cirq_data)\n",
    "\n",
    "qs_data = np.concatenate((np.full(4981, 'z00'), np.full(5019, 'z11'), np.full(4994, 'x00'), \n",
    "                        np.full(5006, 'x11'), np.full(4956, 'y10'), np.full(5044, 'y01')))\n",
    "\n",
    "print(qs_data)\n",
    "\n",
    "kruskal(qiskit_data, cirq_data, qs_data)\n"
   ]
  },
  {
   "cell_type": "markdown",
   "id": "6c968d12",
   "metadata": {},
   "source": [
    "### P-Value of 0.97.... > 0.05 significance level, we cannot refute the null hypothesis"
   ]
  },
  {
   "cell_type": "markdown",
   "id": "b94f43b9",
   "metadata": {},
   "source": [
    "# Encode message '11'"
   ]
  },
  {
   "cell_type": "code",
   "execution_count": 3,
   "id": "0d84b080",
   "metadata": {},
   "outputs": [
    {
     "name": "stdout",
     "output_type": "stream",
     "text": [
      "['z10' 'z10' 'z10' ... 'y01' 'y01' 'y01']\n",
      "['z10' 'z10' 'z10' ... 'y01' 'y01' 'y01']\n",
      "['z10' 'z10' 'z10' ... 'y01' 'y01' 'y01']\n"
     ]
    },
    {
     "data": {
      "text/plain": [
       "KruskalResult(statistic=0.07808692888667125, pvalue=0.9617089080956023)"
      ]
     },
     "execution_count": 3,
     "metadata": {},
     "output_type": "execute_result"
    }
   ],
   "source": [
    "qiskit_data = np.concatenate((np.full(4957, 'z10'), np.full(5043, 'z01'), np.full(5039, 'x10'), \n",
    "                        np.full(4961, 'x01'), np.full(5059, 'y10'), np.full(4941, 'y01')))\n",
    "\n",
    "print(qiskit_data)\n",
    "\n",
    "cirq_data = np.concatenate((np.full(4946, 'z10'), np.full(5054, 'z01'), np.full(4926, 'x10'), \n",
    "                        np.full(5074, 'x01'), np.full(5078, 'y10'), np.full(4922, 'y01')))\n",
    "\n",
    "print(cirq_data)\n",
    "\n",
    "qs_data = np.concatenate((np.full(5012, 'z10'), np.full(4988, 'z01'), np.full(4990, 'x10'), \n",
    "                        np.full(5010, 'x01'), np.full(4956, 'y10'), np.full(5044, 'y01')))\n",
    "\n",
    "print(qs_data)\n",
    "\n",
    "kruskal(qiskit_data, cirq_data, qs_data)"
   ]
  },
  {
   "cell_type": "markdown",
   "id": "66c98670",
   "metadata": {},
   "source": [
    "### P-Value of 0.96.... > 0.05 significance level, we cannot refute the null hypothesis"
   ]
  },
  {
   "cell_type": "markdown",
   "id": "4f0bf670",
   "metadata": {},
   "source": [
    "# Encode message '10'"
   ]
  },
  {
   "cell_type": "code",
   "execution_count": 4,
   "id": "de5f365d",
   "metadata": {},
   "outputs": [
    {
     "name": "stdout",
     "output_type": "stream",
     "text": [
      "['z00' 'z00' 'z00' ... 'y11' 'y11' 'y11']\n",
      "['z00' 'z00' 'z00' ... 'y11' 'y11' 'y11']\n",
      "['z00' 'z00' 'z00' ... 'y11' 'y11' 'y11']\n"
     ]
    },
    {
     "data": {
      "text/plain": [
       "KruskalResult(statistic=0.06183552681809742, pvalue=0.9695553027204684)"
      ]
     },
     "execution_count": 4,
     "metadata": {},
     "output_type": "execute_result"
    }
   ],
   "source": [
    "qiskit_data = np.concatenate((np.full(4958, 'z00'), np.full(5042, 'z11'), np.full(4950, 'x10'), \n",
    "                        np.full(5050, 'x01'), np.full(5029, 'y00'), np.full(4971, 'y11')))\n",
    "\n",
    "print(qiskit_data)\n",
    "\n",
    "cirq_data = np.concatenate((np.full(5063, 'z00'), np.full(4937, 'z11'), np.full(5001, 'x10'), \n",
    "                        np.full(4999, 'x01'), np.full(4921, 'y00'), np.full(5079, 'y11')))\n",
    "\n",
    "print(cirq_data)\n",
    "\n",
    "qs_data = np.concatenate((np.full(4993, 'z00'), np.full(5007, 'z11'), np.full(5058, 'x10'), \n",
    "                        np.full(4942, 'x01'), np.full(4998, 'y00'), np.full(5002, 'y11')))\n",
    "\n",
    "print(qs_data)\n",
    "\n",
    "kruskal(qiskit_data, cirq_data, qs_data)"
   ]
  },
  {
   "cell_type": "markdown",
   "id": "cfd5717b",
   "metadata": {},
   "source": [
    "### P-Value of 0.96.... > 0.05 significance level, we cannot refute the null hypothesis"
   ]
  },
  {
   "cell_type": "markdown",
   "id": "7a2ee62a",
   "metadata": {},
   "source": [
    "# Decode message '00'"
   ]
  },
  {
   "cell_type": "code",
   "execution_count": 5,
   "id": "3bb5859f",
   "metadata": {},
   "outputs": [
    {
     "name": "stdout",
     "output_type": "stream",
     "text": [
      "['z00' 'z00' 'z00' ... 'y11' 'y11' 'y11']\n",
      "['z00' 'z00' 'z00' ... 'y11' 'y11' 'y11']\n",
      "['z00' 'z00' 'z00' ... 'y11' 'y11' 'y11']\n"
     ]
    },
    {
     "data": {
      "text/plain": [
       "KruskalResult(statistic=0.413009936151751, pvalue=0.8134222203036133)"
      ]
     },
     "execution_count": 5,
     "metadata": {},
     "output_type": "execute_result"
    }
   ],
   "source": [
    "qiskit_data = np.concatenate((np.full(10000, 'z00'), np.full(2545, 'x00'), np.full(2486, 'x01'), \n",
    "                        np.full(2458, 'x10'), np.full(2511, 'x11'), np.full(2479, 'y00'),\n",
    "                        np.full(2436, 'y01'), np.full(2583, 'y10'), np.full(2502, 'y11')))\n",
    "\n",
    "print(qiskit_data)\n",
    "\n",
    "cirq_data = np.concatenate((np.full(10000, 'z00'), np.full(2431, 'x00'), np.full(2506, 'x01'), \n",
    "                        np.full(2498, 'x10'), np.full(2565, 'x11'), np.full(2436, 'y00'),\n",
    "                        np.full(2563, 'y01'), np.full(2538, 'y10'), np.full(2463, 'y11')))\n",
    "\n",
    "print(cirq_data)\n",
    "\n",
    "qs_data = np.concatenate((np.full(10000, 'z00'), np.full(2512, 'x00'), np.full(2528, 'x01'), \n",
    "                        np.full(2529, 'x10'), np.full(2431, 'x11'), np.full(2560, 'y00'),\n",
    "                        np.full(2524, 'y01'), np.full(2451, 'y10'), np.full(2465, 'y11')))\n",
    "\n",
    "print(qs_data)\n",
    "\n",
    "kruskal(qiskit_data, cirq_data, qs_data)"
   ]
  },
  {
   "cell_type": "markdown",
   "id": "4fdb097b",
   "metadata": {},
   "source": [
    "### P-Value of 0.81.... > 0.05 significance level, we cannot refute the null hypothesis"
   ]
  },
  {
   "cell_type": "markdown",
   "id": "bcd63594",
   "metadata": {},
   "source": [
    "# Decode message '01'"
   ]
  },
  {
   "cell_type": "code",
   "execution_count": 6,
   "id": "01b634f1",
   "metadata": {},
   "outputs": [
    {
     "name": "stdout",
     "output_type": "stream",
     "text": [
      "['z01' 'z01' 'z01' ... 'y11' 'y11' 'y11']\n",
      "['z01' 'z01' 'z01' ... 'y11' 'y11' 'y11']\n",
      "['z01' 'z01' 'z01' ... 'y11' 'y11' 'y11']\n"
     ]
    },
    {
     "data": {
      "text/plain": [
       "KruskalResult(statistic=0.08622450957234921, pvalue=0.957803865963925)"
      ]
     },
     "execution_count": 6,
     "metadata": {},
     "output_type": "execute_result"
    }
   ],
   "source": [
    "qiskit_data = np.concatenate((np.full(10000, 'z01'), np.full(2528, 'x00'), np.full(2475, 'x01'), \n",
    "                        np.full(2493, 'x10'), np.full(2504, 'x11'), np.full(2502, 'y00'),\n",
    "                        np.full(2569, 'y01'), np.full(2474, 'y10'), np.full(2455, 'y11')))\n",
    "\n",
    "print(qiskit_data)\n",
    "\n",
    "cirq_data = np.concatenate((np.full(10000, 'z01'), np.full(2497, 'x00'), np.full(2525, 'x01'), \n",
    "                        np.full(2512, 'x10'), np.full(2466, 'x11'), np.full(2487, 'y00'),\n",
    "                        np.full(2484, 'y01'), np.full(2507, 'y10'), np.full(2522, 'y11')))\n",
    "\n",
    "print(cirq_data)\n",
    "\n",
    "qs_data = np.concatenate((np.full(10000, 'z01'), np.full(2551, 'x00'), np.full(2504, 'x01'), \n",
    "                        np.full(2490, 'x10'), np.full(2455, 'x11'), np.full(2528, 'y00'),\n",
    "                        np.full(2494, 'y01'), np.full(2506, 'y10'), np.full(2472, 'y11')))\n",
    "\n",
    "print(qs_data)\n",
    "\n",
    "kruskal(qiskit_data, cirq_data, qs_data)"
   ]
  },
  {
   "cell_type": "markdown",
   "id": "736ab5ae",
   "metadata": {},
   "source": [
    "### P-Value of 0.95.... > 0.05 significance level, we cannot refute the null hypothesis"
   ]
  }
 ],
 "metadata": {
  "kernelspec": {
   "display_name": "Python [conda env:root] *",
   "language": "python",
   "name": "conda-root-py"
  },
  "language_info": {
   "codemirror_mode": {
    "name": "ipython",
    "version": 3
   },
   "file_extension": ".py",
   "mimetype": "text/x-python",
   "name": "python",
   "nbconvert_exporter": "python",
   "pygments_lexer": "ipython3",
   "version": "3.8.12"
  }
 },
 "nbformat": 4,
 "nbformat_minor": 5
}
