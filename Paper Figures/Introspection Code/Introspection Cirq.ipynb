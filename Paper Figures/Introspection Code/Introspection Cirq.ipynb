{
 "cells": [
  {
   "cell_type": "markdown",
   "id": "39c0c2b8",
   "metadata": {},
   "source": [
    "## Print Cirq Circuit and Statevector"
   ]
  },
  {
   "cell_type": "code",
   "execution_count": 17,
   "id": "8938fc00",
   "metadata": {},
   "outputs": [],
   "source": [
    "import cirq\n",
    "from cirq import Simulator\n",
    "import numpy as np"
   ]
  },
  {
   "cell_type": "code",
   "execution_count": 18,
   "id": "636a2990",
   "metadata": {},
   "outputs": [
    {
     "name": "stdout",
     "output_type": "stream",
     "text": [
      "0: ───H───@───\n",
      "          │\n",
      "1: ───────X───\n",
      "\n",
      "2: ───H───S───\n",
      "\n",
      "\n",
      "\n",
      "\n",
      "[0.5+0.j  0. +0.5j 0. +0.j  0. +0.j  0. +0.j  0. +0.j  0.5+0.j  0. +0.5j]\n"
     ]
    }
   ],
   "source": [
    "#instantiate simulator\n",
    "simulator = Simulator()\n",
    "\n",
    "#instantiate qubit\n",
    "qubits = cirq.LineQubit.range(3)\n",
    "\n",
    "#make circuit\n",
    "circuit = cirq.Circuit()\n",
    "circuit.append(cirq.H(qubits[0]))\n",
    "circuit.append(cirq.CNOT(qubits[0], qubits[1]))\n",
    "circuit.append(cirq.H(qubits[2]))\n",
    "circuit.append(cirq.Z(qubits[2])**0.5)\n",
    "\n",
    "#print circuit\n",
    "print(circuit)\n",
    "\n",
    "#space the outputs\n",
    "print(\"\\n\\n\\n\")\n",
    "\n",
    "#print the statevectors\n",
    "result = simulator.simulate(circuit)\n",
    "print(np.around(result.final_state_vector, 3))\n"
   ]
  },
  {
   "cell_type": "code",
   "execution_count": null,
   "id": "39a3620b",
   "metadata": {},
   "outputs": [],
   "source": []
  }
 ],
 "metadata": {
  "kernelspec": {
   "display_name": "Python [conda env:cirq]",
   "language": "python",
   "name": "conda-env-cirq-py"
  },
  "language_info": {
   "codemirror_mode": {
    "name": "ipython",
    "version": 3
   },
   "file_extension": ".py",
   "mimetype": "text/x-python",
   "name": "python",
   "nbconvert_exporter": "python",
   "pygments_lexer": "ipython3",
   "version": "3.9.7"
  }
 },
 "nbformat": 4,
 "nbformat_minor": 5
}
