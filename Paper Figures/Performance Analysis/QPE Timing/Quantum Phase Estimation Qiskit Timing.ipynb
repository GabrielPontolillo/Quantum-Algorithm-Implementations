{
 "cells": [
  {
   "cell_type": "markdown",
   "id": "6b7787db",
   "metadata": {},
   "source": [
    "# [Quantum Phase Estimation Code used from IBM's Qiskit Tutorials](https://qiskit.org/textbook/ch-algorithms/quantum-phase-estimation.html)\n",
    "\n",
    "Code modified from source"
   ]
  },
  {
   "cell_type": "code",
   "execution_count": 1,
   "id": "5381fe00",
   "metadata": {},
   "outputs": [],
   "source": [
    "#initialization\n",
    "import matplotlib.pyplot as plt\n",
    "import numpy as np\n",
    "import math\n",
    "\n",
    "# importing Qiskit\n",
    "from qiskit import Aer, transpile, assemble\n",
    "from qiskit import QuantumCircuit, ClassicalRegister, QuantumRegister\n",
    "from qiskit.circuit.library import QFT\n",
    "\n",
    "# import basic plot tools\n",
    "from qiskit.visualization import plot_histogram, plot_bloch_multivector"
   ]
  },
  {
   "cell_type": "code",
   "execution_count": 2,
   "id": "61b3a4ca",
   "metadata": {},
   "outputs": [],
   "source": [
    "def qft_dagger(qc, n):\n",
    "    \"\"\"n-qubit QFTdagger the first n qubits in circ\"\"\"\n",
    "    # Don't forget the Swaps!\n",
    "    for qubit in range(n//2):\n",
    "        qc.swap(qubit, n-qubit-1)\n",
    "    for j in range(n):\n",
    "        for m in range(j):\n",
    "            qc.cp(-math.pi/float(2**(j-m)), m, j)\n",
    "        qc.h(j)"
   ]
  },
  {
   "cell_type": "markdown",
   "id": "e771981f",
   "metadata": {},
   "source": [
    "# Benchmarking speed of Qiskit for QPE\n",
    "\n",
    "First we modify the previous functions to remove prints, then run it 10,000 times"
   ]
  },
  {
   "cell_type": "code",
   "execution_count": 5,
   "id": "bdc90a29",
   "metadata": {},
   "outputs": [
    {
     "data": {
      "text/plain": [
       "0.33203125"
      ]
     },
     "execution_count": 5,
     "metadata": {},
     "output_type": "execute_result"
    }
   ],
   "source": [
    "#Modified to remove prints\n",
    "\n",
    "def generalised_qpe_timing(amt_estimation_qubits, angle, shots=4096):\n",
    "    # Create and set up circuit\n",
    "    qpe3 = QuantumCircuit(amt_estimation_qubits+1, amt_estimation_qubits)\n",
    "\n",
    "    # Apply H-Gates to counting qubits:\n",
    "    for qubit in range(amt_estimation_qubits):\n",
    "        qpe3.h(qubit)\n",
    "\n",
    "    # Prepare our eigenstate |psi>:\n",
    "    qpe3.x(amt_estimation_qubits)\n",
    "\n",
    "    repetitions = 1\n",
    "    for counting_qubit in range(amt_estimation_qubits):\n",
    "        for i in range(repetitions):\n",
    "            qpe3.cp(angle, counting_qubit, amt_estimation_qubits);\n",
    "        repetitions *= 2\n",
    "\n",
    "    # Do the inverse QFT:\n",
    "    qft_dagger(qpe3, amt_estimation_qubits)\n",
    "\n",
    "    # Measure of course!\n",
    "    qpe3.barrier()\n",
    "    for n in range(amt_estimation_qubits):\n",
    "        qpe3.measure(n,n)\n",
    "\n",
    "    #print(qpe3)\n",
    "    # Let's see the results!\n",
    "    aer_sim = Aer.get_backend('aer_simulator')\n",
    "    t_qpe3 = transpile(qpe3, aer_sim)\n",
    "    qobj = assemble(t_qpe3, shots=shots)\n",
    "    results = aer_sim.run(qobj).result()\n",
    "    answer = results.get_counts()\n",
    "    ##return(plot_histogram(answer))\n",
    "    ##comment out the return if you want to see the histogram\n",
    "    ## do not output value to not skew timing\n",
    "    return ((int(answer.most_frequent(), 2)/2**amt_estimation_qubits))\n",
    "    \n",
    "    \n",
    "generalised_qpe_timing(8,(2*math.pi/3),10000)\n",
    "#generalised_qpe(2,(2*math.pi/4))"
   ]
  },
  {
   "cell_type": "code",
   "execution_count": 7,
   "id": "4eb972ab",
   "metadata": {},
   "outputs": [
    {
     "name": "stdout",
     "output_type": "stream",
     "text": [
      "99.4736 ms ± 901.12978 µs per loop (mean ± std. dev. of 10 runs, 1 loop each)\n"
     ]
    }
   ],
   "source": [
    "%timeit -p 8 -r 10 -n 1 generalised_qpe_timing(8,(2*math.pi/3),10000)"
   ]
  },
  {
   "cell_type": "code",
   "execution_count": null,
   "id": "daf54b22",
   "metadata": {},
   "outputs": [],
   "source": []
  }
 ],
 "metadata": {
  "kernelspec": {
   "display_name": "Python [conda env:qiskit]",
   "language": "python",
   "name": "conda-env-qiskit-py"
  },
  "language_info": {
   "codemirror_mode": {
    "name": "ipython",
    "version": 3
   },
   "file_extension": ".py",
   "mimetype": "text/x-python",
   "name": "python",
   "nbconvert_exporter": "python",
   "pygments_lexer": "ipython3",
   "version": "3.9.7"
  }
 },
 "nbformat": 4,
 "nbformat_minor": 5
}
