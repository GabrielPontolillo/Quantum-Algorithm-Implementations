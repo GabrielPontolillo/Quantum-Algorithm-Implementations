{
 "cells": [
  {
   "cell_type": "markdown",
   "id": "39c0c2b8",
   "metadata": {},
   "source": [
    "# [Quantum Phase Estimation Code used from IBM's Qiskit Tutorials](https://qiskit.org/textbook/ch-algorithms/quantum-phase-estimation.html)\n",
    "## Code adapted for Cirq"
   ]
  },
  {
   "cell_type": "code",
   "execution_count": 1,
   "id": "8938fc00",
   "metadata": {},
   "outputs": [],
   "source": [
    "import cirq\n",
    "import random\n",
    "import matplotlib.pyplot as plt\n",
    "import numpy as np"
   ]
  },
  {
   "cell_type": "code",
   "execution_count": 2,
   "id": "ef1c3a47",
   "metadata": {},
   "outputs": [],
   "source": [
    "def qft_dagger_cirq(qc, qubits, n):\n",
    "    for qubit in range(n//2):\n",
    "        qc.append(cirq.SWAP(qubits[qubit], qubits[n-qubit-1]))\n",
    "    for j in range(n):\n",
    "        for m in range(j):\n",
    "            qc.append((cirq.CZ**(-1/2**(j-m)))(qubits[m],qubits[j]))\n",
    "        qc.append(cirq.H(qubits[j]))"
   ]
  },
  {
   "cell_type": "code",
   "execution_count": 3,
   "id": "d2d09e5c",
   "metadata": {},
   "outputs": [],
   "source": [
    "def generalised_qpe_cirq(amt_estimation_qubits, angle, shots = 4098):\n",
    "    # Create and set up circuit\n",
    "    qubits = cirq.LineQubit.range(amt_estimation_qubits+1)\n",
    "    circuit = cirq.Circuit()\n",
    "    \n",
    "    # Apply H-Gates to counting qubits:\n",
    "    for qubit in range(amt_estimation_qubits):\n",
    "        circuit.append(cirq.H(qubits[qubit]))\n",
    "\n",
    "    #print(circuit)    \n",
    "        \n",
    "    # Prepare our eigenstate |psi>:\n",
    "    circuit.append(cirq.X(qubits[amt_estimation_qubits]))\n",
    "\n",
    "    #print(circuit) \n",
    "    \n",
    "    repetitions = 1\n",
    "    for counting_qubit in range(amt_estimation_qubits):\n",
    "        for i in range(repetitions):\n",
    "            circuit.append((cirq.CZ**(angle))(qubits[counting_qubit],qubits[amt_estimation_qubits]));\n",
    "        repetitions *= 2\n",
    "        \n",
    "    #print(circuit) \n",
    "\n",
    "    # Do the inverse QFT:\n",
    "    qft_dagger_cirq(circuit, qubits, amt_estimation_qubits)\n",
    "    \n",
    "    # Measure of course!\n",
    "    circuit.append(cirq.measure(*qubits[:-1], key='m'))\n",
    "        \n",
    "    simulator = cirq.Simulator()\n",
    "    results = simulator.run(circuit , repetitions = shots)\n",
    "    theta_estimates = np.sum(2 ** np.arange(amt_estimation_qubits) * results.measurements['m'], axis=1) / 2**amt_estimation_qubits\n",
    "    unique,pos = np.unique(theta_estimates,return_inverse=True)\n",
    "    counts = np.bincount(pos)\n",
    "    maxpos = counts.argmax()\n",
    "    #print(unique[maxpos],counts[maxpos])\n",
    "    \n",
    "    \n",
    "    #print(answer)\n",
    "    #print(\"Most frequent '\" + answer.most_frequent() + \"'\")\n",
    "    #print(\"Approx rotation angle by Z from the unitary'\" + str(int(answer.most_frequent(), 2)/2**amt_estimation_qubits) + \"'\")\n",
    "    #print(\"Phase Calculation \" + answer.most_frequent())\n",
    "\n",
    "    #plot_histogram(answer)\n",
    "    ##comment out the return if you want to see the histogram\n",
    "    #return((int(answer.most_frequent(), 2)/2**amt_estimation_qubits))\n",
    "    \n",
    "    \n",
    "generalised_qpe_cirq(8,(2*(1/3)))"
   ]
  },
  {
   "cell_type": "markdown",
   "id": "5f58ae18",
   "metadata": {},
   "source": [
    "# Benchmarking speed of Cirq for QPE\n",
    "\n",
    "First we modify the previous functions to remove prints, then run it 100,000 times"
   ]
  },
  {
   "cell_type": "code",
   "execution_count": 4,
   "id": "bce018c3",
   "metadata": {},
   "outputs": [
    {
     "name": "stdout",
     "output_type": "stream",
     "text": [
      "124.82176 ms ± 3.131104 ms per loop (mean ± std. dev. of 10 runs, 1 loop each)\n"
     ]
    }
   ],
   "source": [
    "%timeit -p 8 -r 10 -n 1 generalised_qpe_cirq(8,(2*(1/3)),10000)"
   ]
  }
 ],
 "metadata": {
  "kernelspec": {
   "display_name": "Python [conda env:cirq]",
   "language": "python",
   "name": "conda-env-cirq-py"
  },
  "language_info": {
   "codemirror_mode": {
    "name": "ipython",
    "version": 3
   },
   "file_extension": ".py",
   "mimetype": "text/x-python",
   "name": "python",
   "nbconvert_exporter": "python",
   "pygments_lexer": "ipython3",
   "version": "3.9.7"
  }
 },
 "nbformat": 4,
 "nbformat_minor": 5
}
