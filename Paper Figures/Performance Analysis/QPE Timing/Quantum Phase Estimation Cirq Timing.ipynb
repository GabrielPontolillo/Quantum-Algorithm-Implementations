{
 "cells": [
  {
   "cell_type": "markdown",
   "id": "39c0c2b8",
   "metadata": {},
   "source": [
    "# [Quantum Phase Estimation Code used from IBM's Qiskit Tutorials](https://qiskit.org/textbook/ch-algorithms/quantum-phase-estimation.html)\n",
    "## Code adapted for Cirq"
   ]
  },
  {
   "cell_type": "code",
   "execution_count": 2,
   "id": "8938fc00",
   "metadata": {},
   "outputs": [],
   "source": [
    "import cirq\n",
    "import matplotlib.pyplot as plt\n",
    "import numpy as np"
   ]
  },
  {
   "cell_type": "code",
   "execution_count": 3,
   "id": "ef1c3a47",
   "metadata": {},
   "outputs": [],
   "source": [
    "def qft_dagger_cirq(qc, qubits, n):\n",
    "    for qubit in range(n//2):\n",
    "        qc.append(cirq.SWAP(qubits[qubit], qubits[n-qubit-1]))\n",
    "    for j in range(n):\n",
    "        for m in range(j):\n",
    "            qc.append((cirq.CZ**(-1/2**(j-m)))(qubits[m],qubits[j]))\n",
    "        qc.append(cirq.H(qubits[j]))"
   ]
  },
  {
   "cell_type": "code",
   "execution_count": 4,
   "id": "d2d09e5c",
   "metadata": {},
   "outputs": [],
   "source": [
    "def generalised_qpe_cirq(amt_estimation_qubits, angle, shots = 4098):\n",
    "    # Create and set up circuit\n",
    "    qubits = cirq.LineQubit.range(amt_estimation_qubits+1)\n",
    "    circuit = cirq.Circuit()\n",
    "    \n",
    "    # Apply H-Gates to counting qubits:\n",
    "    for qubit in range(amt_estimation_qubits):\n",
    "        circuit.append(cirq.H(qubits[qubit]))\n",
    "        \n",
    "    # Prepare our eigenstate |psi>:\n",
    "    circuit.append(cirq.X(qubits[amt_estimation_qubits]))\n",
    "    \n",
    "    repetitions = 1\n",
    "    for counting_qubit in range(amt_estimation_qubits):\n",
    "        for i in range(repetitions):\n",
    "            circuit.append((cirq.CZ**(angle))(qubits[counting_qubit],qubits[amt_estimation_qubits]));\n",
    "        repetitions *= 2\n",
    "        \n",
    "    # Do the inverse QFT:\n",
    "    qft_dagger_cirq(circuit, qubits, amt_estimation_qubits)\n",
    "    \n",
    "    # Measure of course!\n",
    "    circuit.append(cirq.measure(*qubits[:-1], key='m'))\n",
    "        \n",
    "    simulator = cirq.Simulator()\n",
    "    results = simulator.run(circuit , repetitions = shots)\n",
    "    theta_estimates = np.sum(2 ** np.arange(amt_estimation_qubits) * results.measurements['m'], axis=1) / 2**amt_estimation_qubits\n",
    "    unique,pos = np.unique(theta_estimates,return_inverse=True)\n",
    "    counts = np.bincount(pos)\n",
    "    maxpos = counts.argmax()\n",
    "    \n",
    "    \n",
    "generalised_qpe_cirq(8,(2*(1/3)))"
   ]
  },
  {
   "cell_type": "markdown",
   "id": "5f58ae18",
   "metadata": {},
   "source": [
    "# Benchmarking speed of Cirq for QPE\n",
    "\n",
    "First we modify the previous functions to remove prints, then run it 100,000 times"
   ]
  },
  {
   "cell_type": "code",
   "execution_count": 5,
   "id": "bce018c3",
   "metadata": {},
   "outputs": [
    {
     "name": "stdout",
     "output_type": "stream",
     "text": [
      "129.8528 ms ± 0 ns per loop (mean ± std. dev. of 1 run, 1 loop each)\n",
      "130.8356 ms ± 0 ns per loop (mean ± std. dev. of 1 run, 1 loop each)\n",
      "140.4431 ms ± 0 ns per loop (mean ± std. dev. of 1 run, 1 loop each)\n",
      "137.3588 ms ± 0 ns per loop (mean ± std. dev. of 1 run, 1 loop each)\n",
      "126.2163 ms ± 0 ns per loop (mean ± std. dev. of 1 run, 1 loop each)\n",
      "132.2742 ms ± 0 ns per loop (mean ± std. dev. of 1 run, 1 loop each)\n",
      "131.901 ms ± 0 ns per loop (mean ± std. dev. of 1 run, 1 loop each)\n",
      "130.6857 ms ± 0 ns per loop (mean ± std. dev. of 1 run, 1 loop each)\n",
      "125.8239 ms ± 0 ns per loop (mean ± std. dev. of 1 run, 1 loop each)\n",
      "127.9589 ms ± 0 ns per loop (mean ± std. dev. of 1 run, 1 loop each)\n"
     ]
    }
   ],
   "source": [
    "%timeit -p 8 -r 1 -n 1 generalised_qpe_cirq(8,(2*(1/3)),10000)\n",
    "%timeit -p 8 -r 1 -n 1 generalised_qpe_cirq(8,(2*(1/3)),10000)\n",
    "%timeit -p 8 -r 1 -n 1 generalised_qpe_cirq(8,(2*(1/3)),10000)\n",
    "%timeit -p 8 -r 1 -n 1 generalised_qpe_cirq(8,(2*(1/3)),10000)\n",
    "%timeit -p 8 -r 1 -n 1 generalised_qpe_cirq(8,(2*(1/3)),10000)\n",
    "%timeit -p 8 -r 1 -n 1 generalised_qpe_cirq(8,(2*(1/3)),10000)\n",
    "%timeit -p 8 -r 1 -n 1 generalised_qpe_cirq(8,(2*(1/3)),10000)\n",
    "%timeit -p 8 -r 1 -n 1 generalised_qpe_cirq(8,(2*(1/3)),10000)\n",
    "%timeit -p 8 -r 1 -n 1 generalised_qpe_cirq(8,(2*(1/3)),10000)\n",
    "%timeit -p 8 -r 1 -n 1 generalised_qpe_cirq(8,(2*(1/3)),10000)"
   ]
  }
 ],
 "metadata": {
  "interpreter": {
   "hash": "718ec9f9f02ad1c301206f114455f44f7bf7d7722ac3c283f34a2e6fcd392ffc"
  },
  "kernelspec": {
   "display_name": "Python [conda env:cirq]",
   "language": "python",
   "name": "python3"
  },
  "language_info": {
   "codemirror_mode": {
    "name": "ipython",
    "version": 3
   },
   "file_extension": ".py",
   "mimetype": "text/x-python",
   "name": "python",
   "nbconvert_exporter": "python",
   "pygments_lexer": "ipython3",
   "version": "3.9.7"
  }
 },
 "nbformat": 4,
 "nbformat_minor": 5
}
